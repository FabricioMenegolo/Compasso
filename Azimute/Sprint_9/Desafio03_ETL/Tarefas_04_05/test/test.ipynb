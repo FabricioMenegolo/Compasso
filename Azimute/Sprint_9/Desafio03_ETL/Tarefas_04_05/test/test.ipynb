{
 "cells": [
  {
   "cell_type": "code",
   "execution_count": null,
   "metadata": {},
   "outputs": [],
   "source": [
    "!pip install fuzzywuzzy"
   ]
  },
  {
   "cell_type": "code",
   "execution_count": null,
   "metadata": {},
   "outputs": [],
   "source": [
    "from pyspark.sql.functions import col, levenshtein\n",
    "\n",
    "# Renomear colunas do dataframe de filmes\n",
    "df_movies_renamed = df_movies_IMDB.select(col(\"tituloPrincipal\").alias(\"tituloPrincipal_movies\"))\n",
    "\n",
    "# Renomear colunas do dataframe de séries\n",
    "df_series_renamed = df_series_IMDB.select(col(\"tituloPrincipal\").alias(\"tituloPrincipal_series\"))\n",
    "\n",
    "# Realizar a comparação entre os títulos dos dataframes\n",
    "df_similarity = df_movies_renamed.crossJoin(df_series_renamed) \\\n",
    "    .withColumn(\"title_similarity\", levenshtein(col(\"tituloPrincipal_movies\"), col(\"tituloPrincipal_series\")))\n",
    "\n",
    "# Filtrar os registros com títulos semelhantes e manter apenas os registros da tabela de séries\n",
    "df_filtered = df_similarity.filter(col(\"title_similarity\") <= 2)\n",
    "\n",
    "# Inner join com a tabela de séries para manter apenas os registros com similaridade\n",
    "df_result = df_series_IMDB.join(df_filtered, df_series_IMDB[\"tituloPrincipal\"] == df_filtered[\"tituloPrincipal_series\"], \"inner\")\n",
    "\n",
    "# Exibir os resultados\n",
    "df_result.show()"
   ]
  },
  {
   "attachments": {},
   "cell_type": "markdown",
   "metadata": {},
   "source": [
    "A função de levenshtein é uma função de similaridade de strings que mede a diferença entre duas strings com base no número mínimo de operações necessárias para transformar uma string na outra. Essas operações incluem inserção, exclusão e substituição de caracteres.\n",
    "\n",
    "No caso do PySpark, a função levenshtein é implementada como uma função do módulo pyspark.sql.functions. Ela compara duas colunas de string e retorna a distância de Levenshtein entre elas.\n",
    "\n",
    "A função de levenshtein é útil para comparar a similaridade entre strings e pode ser usada em várias aplicações, como a deduplicação de registros, correção ortográfica, pesquisa fuzzy, entre outros.\n",
    "\n",
    "A função levenshtein considera todas as operações necessárias para transformar uma string na outra, incluindo inserções, exclusões e substituições de caracteres. Portanto, se houver caracteres especiais em suas strings, eles serão tratados corretamente e terão impacto no cálculo da distância de Levenshtein.\n",
    "\n",
    "A distância de Levenshtein é calculada por meio de iterações recursivas, onde cada iteração representa uma operação que pode ser realizada para transformar uma string na outra. Existem três operações possíveis:\n",
    "\n",
    "Inserção (Insert): Consiste em inserir um caractere em uma das strings para torná-las iguais. Isso aumenta a distância em 1.\n",
    "\n",
    "Exclusão (Delete): Consiste em excluir um caractere de uma das strings para torná-las iguais. Isso também aumenta a distância em 1.\n",
    "\n",
    "Substituição (Substitute): Consiste em substituir um caractere por outro em uma das strings para torná-las iguais. Isso aumenta a distância em 1.\n",
    "\n",
    "Cada iteração da distância de Levenshtein é uma operação dessas três opções. O objetivo é encontrar a sequência de operações que minimize a distância total entre as strings."
   ]
  },
  {
   "cell_type": "markdown",
   "metadata": {},
   "source": []
  },
  {
   "cell_type": "markdown",
   "metadata": {},
   "source": []
  }
 ],
 "metadata": {
  "language_info": {
   "name": "python"
  },
  "orig_nbformat": 4
 },
 "nbformat": 4,
 "nbformat_minor": 2
}
