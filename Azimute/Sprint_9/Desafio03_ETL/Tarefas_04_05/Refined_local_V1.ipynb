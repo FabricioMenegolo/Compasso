{
	"cells": [
		{
			"cell_type": "code",
			"execution_count": 98,
			"metadata": {
				"trusted": true
			},
			"outputs": [
				{
					"name": "stdout",
					"output_type": "stream",
					"text": [
						"Requirement already satisfied: pyspark in /opt/apache-spark/python (3.3.0)\n",
						"Requirement already satisfied: py4j==0.10.9.5 in /home/fmenegolo/.asdf/installs/python/3.9.1/lib/python3.9/site-packages (from pyspark) (0.10.9.5)\n",
						"\u001b[33mWARNING: You are using pip version 20.2.3; however, version 23.1.2 is available.\n",
						"You should consider upgrading via the '/home/fmenegolo/.asdf/installs/python/3.9.1/bin/python3.9 -m pip install --upgrade pip' command.\u001b[0m\n",
						"Reshimming asdf python...\n"
					]
				}
			],
			"source": [
				"!pip install pyspark"
			]
		},
		{
			"cell_type": "code",
			"execution_count": 99,
			"metadata": {},
			"outputs": [],
			"source": [
				"from pyspark.sql import SparkSession\n",
				"from pyspark import SparkContext, SQLContext\n",
				"from datetime import datetime\n",
				"from pyspark.sql.functions import col, substring, regexp_replace, expr, size, levenshtein, avg, when, format_number, sum, lower, trim, split\n",
				"from pyspark.sql import functions as F\n",
				"\n",
				"spark = SparkSession \\\n",
				"    .builder \\\n",
				"    .master(\"local[*]\")\\\n",
				"    .appName(\"ELT Refined\") \\\n",
				"    .getOrCreate()\n"
			]
		},
		{
			"cell_type": "code",
			"execution_count": 100,
			"metadata": {},
			"outputs": [],
			"source": [
				"\n",
				"path1 = f\"/mnt/wsl/PHYSICALDRIVE2/Projects/Compasso/Azimute/Sprint_9/Desafio03_ETL/Tarefa_03/assets/Local/\"\n",
				"df_movies_IMDB_trusted = spark.read.parquet(path1 + 'movies_IMDB_trusted.parquet')\n",
				"df_series_IMDB_trusted = spark.read.parquet(path1 + 'series_IMDB_trusted.parquet') \n",
				"\n",
				"path2 = f\"/mnt/wsl/PHYSICALDRIVE2/Projects/Compasso/Azimute/Sprint_9/Desafio03_ETL/Tarefa_03/assets/TMDB/\"\n",
				"df_movies_TMDB_trusted = spark.read.parquet(path2 + 'movies_TMDB_trusted.parquet')\n",
				"df_series_TMDB_trusted = spark.read.parquet(path2 + 'series_TMDB_trusted.parquet')\n"
			]
		},
		{
			"attachments": {},
			"cell_type": "markdown",
			"metadata": {},
			"source": [
				"## 2. Normalização\n",
				"#### 2.1. Cria tabela movies IMDB"
			]
		},
		{
			"cell_type": "code",
			"execution_count": 101,
			"metadata": {},
			"outputs": [],
			"source": [
				"df_movies_IMDB = df_movies_IMDB_trusted.select(\"id\", \"tituloPrincipal\", \"tituloOriginal\", \"anoLancamento\", \"tempoMinutos\", \"genero\", \"notaMedia\", \"numeroVotos\")\n",
				"df_movies_IMDB = df_movies_IMDB.dropDuplicates(['id'])  # Remover duplicatas pelo ID\n",
				"df_movies_IMDB = df_movies_IMDB.withColumnRenamed(\"id\", \"movie_id\")  # Renomear a coluna \"id\" para \"movie_id\""
			]
		},
		{
			"attachments": {},
			"cell_type": "markdown",
			"metadata": {},
			"source": [
				"#### 2.2. Cria tabela series IMDB"
			]
		},
		{
			"cell_type": "code",
			"execution_count": 102,
			"metadata": {},
			"outputs": [],
			"source": [
				"df_series_IMDB = df_series_IMDB_trusted.select(\"id\", \"tituloPrincipal\", \"tituloOriginal\", \"anoLancamento\", \"anoTermino\", \"tempoMinutos\", \"genero\", \"notaMedia\", \"numeroVotos\")\n",
				"df_series_IMDB = df_series_IMDB.dropDuplicates(['id'])  # Remover duplicatas pelo ID\n",
				"df_series_IMDB = df_series_IMDB.withColumnRenamed(\"id\", \"seriesId\")  # Renomear a coluna \"id\" para \"movie_id\""
			]
		},
		{
			"attachments": {},
			"cell_type": "markdown",
			"metadata": {},
			"source": [
				"## 3.Junção \n",
				"\n",
				"### 3.1 Unir DF dos FILMES"
			]
		},
		{
			"cell_type": "code",
			"execution_count": 103,
			"metadata": {},
			"outputs": [],
			"source": [
				"# Aplicar regexp_replace no dataframe df_movies_TMDB\n",
				"df_movies_TMDB_titulos_datas = df_movies_TMDB_trusted.select(\n",
				"    regexp_replace(col('title'), r\"[^a-zA-Z0-9\\s]\", \"\").alias('title_replaced'),\n",
				"    substring(col('release_date'), 1, 4).alias('releaseDate'),\n",
				"    col('id'),\n",
				"    col('genre_ids'),\n",
				"    col('original_language'),\n",
				"    col('popularity'),\n",
				"    col('vote_average'),\n",
				"    col('vote_count'),\n",
				"    col('title'),\n",
				"    col('release_date')\n",
				")\n",
				"\n",
				"# Aplicar regexp_replace no dataframe df_movies_IMDB\n",
				"df_movies_IMDB_titulos_datas = df_movies_IMDB.select(\n",
				"    regexp_replace(col('tituloPrincipal'), r\"[^a-zA-Z0-9\\s]\", \"\").alias('tituloPrincipal_replaced'),\n",
				"    substring(col('anoLancamento'), 1, 4).alias('anoLancamento'),\n",
				"    col('movie_id'),\n",
				"    col('tituloOriginal'),\n",
				"    col('tempoMinutos'),\n",
				"    col('genero'),\n",
				"    col('notaMedia'),\n",
				"    col('numeroVotos')\n",
				")\n",
				"\n",
				"# Remover a sentença \"Final Chapter Part\" do dataframe df_movies_IMDB\n",
				"df_movies_IMDB_titulos_datas = df_movies_IMDB_titulos_datas.withColumn('tituloPrincipal_replaced', regexp_replace(col('tituloPrincipal_replaced'), 'Final Chapter Part', '')\n",
				")\n",
				"\n",
				"# Realizar a comparação de similaridade entre os títulos dos dataframes e filtrar pelo ano de lançamento\n",
				"df_movies_refined = df_movies_TMDB_titulos_datas.join(\n",
				"    df_movies_IMDB_titulos_datas,\n",
				"    expr(\n",
				"        \"(size(split(title_replaced, ' ')) = 1 AND \" +\n",
				"        \"size(filter(split(title_replaced, ' '), x -> length(x) > 3 AND instr(tituloPrincipal_replaced, x) > 0)) >= 1) OR \" +\n",
				"        \"(size(split(title_replaced, ' ')) = 2 AND \" +\n",
				"        \"size(filter(split(title_replaced, ' '), x -> length(x) >= 1 AND instr(tituloPrincipal_replaced, x) > 0)) >= 2) OR \" +\n",
				"        \"(size(split(title_replaced, ' ')) = 3 AND \" +\n",
				"        \"size(filter(split(title_replaced, ' '), x -> length(x) > 4 AND instr(tituloPrincipal_replaced, x) > 0)) >= 2) OR \" +\n",
				"        \"(size(split(title_replaced, ' ')) = 4 AND \" +\n",
				"        \"size(filter(split(title_replaced, ' '), x -> length(x) > 3 AND instr(tituloPrincipal_replaced, x) > 0)) >= 3) OR \" +\n",
				"        \"(size(split(title_replaced, ' ')) >= 5 AND \" +\n",
				"        \"size(filter(split(title_replaced, ' '), x -> length(x) >= 3 AND instr(tituloPrincipal_replaced, x) > 0)) >= 3 AND \" +\n",
				"        \"levenshtein(tituloPrincipal_replaced, title_replaced) <= 9)\"\n",
				"    ) &\n",
				"    (df_movies_TMDB_titulos_datas['releaseDate'] == df_movies_IMDB_titulos_datas['anoLancamento']) &\n",
				"    (col('tituloPrincipal_replaced').isNotNull()) &\n",
				"    (col('tituloPrincipal_replaced') != '') &\n",
				"    (col('title_replaced').isNotNull()) &\n",
				"    (col('title_replaced') != ''),\n",
				"    'left_outer'\n",
				")"
			]
		},
		{
			"cell_type": "code",
			"execution_count": 104,
			"metadata": {},
			"outputs": [],
			"source": [
				"# Calcular a soma de vote_count e numeroVotos (se não forem nulos)\n",
				"df_movies_refined = df_movies_refined.withColumn('votos', col('vote_count') + col('numeroVotos'))\n",
				"\n",
				"# Calcular a média de vote_average e notaMedia (se não forem nulos)\n",
				"df_movies_refined = df_movies_refined.withColumn('nota_media', when(\n",
				"    col('vote_count').isNotNull() & col('numeroVotos').isNotNull(),\n",
				"    (col('vote_average') * col('vote_count') + col('notaMedia') * col('numeroVotos')) / col('votos')\n",
				").otherwise(\n",
				"    when(col('vote_count').isNotNull(), col('vote_average')).otherwise(col('notaMedia'))\n",
				"))\n",
				"\n",
				"# Tratar valores nulos e arredondar a nota média ponderada para uma casa decimal\n",
				"df_movies_refined = df_movies_refined.withColumn('votos', when(col('votos').isNull(), col('vote_count')).otherwise(col('votos')))\n",
				"df_movies_refined = df_movies_refined.withColumn('nota_media', when(col('nota_media').isNull(), col('vote_average')).otherwise(col('nota_media')))\n",
				"df_movies_refined = df_movies_refined.withColumn('nota_media', format_number(col('nota_media'), 1))\n",
				"\n",
				"# Apagar as colunas indesejadas\n",
				"df_movies_refined = df_movies_refined.drop('releaseDate', 'tituloPrincipal_replaced', 'anoLancamento', 'title_replaced','vote_average','vote_count','notaMedia','numeroVotos','tituloOriginal','genero')\n",
				"\n",
				"# Selecione apenas as colunas desejadas\n",
				"df_movies_refined = df_movies_refined.select('id','movie_id','genre_ids', 'title', 'tempoMinutos', 'release_date', 'original_language', 'popularity', 'nota_media', 'votos')\n",
				"\n",
				"df_movies_refined = df_movies_refined.distinct()\n"
			]
		},
		{
			"cell_type": "code",
			"execution_count": 105,
			"metadata": {},
			"outputs": [
				{
					"name": "stdout",
					"output_type": "stream",
					"text": [
						"+-------+----------+--------------------+--------------------+------------+------------+-----------------+----------+----------+-----+\n",
						"|     id|  movie_id|           genre_ids|               title|tempoMinutos|release_date|original_language|popularity|nota_media|votos|\n",
						"+-------+----------+--------------------+--------------------+------------+------------+-----------------+----------+----------+-----+\n",
						"| 467824| tt3967878|   [878, 28, 12, 53]|Illang: The Wolf ...|         139|  2018-07-25|               ko|     18.65|       5.9| 5538|\n",
						"| 349176|      null|   [28, 12, 35, 878]|Assassination Cla...|        null|  2015-03-21|               ja|    11.802|       7.3|  163|\n",
						"|  16007| tt0758742|      [14, 9648, 53]|          Death Note|         126|  2006-06-17|               ja|    18.397|       7.5|31297|\n",
						"| 431572| tt6105880|    [28, 12, 14, 53]|JoJo's Bizarre Ad...|         119|  2017-08-04|               ja|    14.042|       5.8| 1797|\n",
						"| 127533| tt1979319|[12, 28, 14, 1075...|Rurouni Kenshin P...|         134|  2012-08-25|               ja|    22.285|       7.4|27454|\n",
						"| 742396|      null|      [9648, 53, 18]|Kakegurui 2: Ulti...|        null|  2021-04-29|               ja|    12.215|       7.1|   10|\n",
						"| 420426| tt5979872|        [28, 14, 12]|              Bleach|         108|  2018-07-20|               ja|    15.138|       6.3|12418|\n",
						"| 620263|tt10052928|    [28, 12, 18, 36]|Black Fox: Age of...|          92|  2019-10-05|               ja|     2.789|       5.0|  145|\n",
						"| 192712|      null|            [18, 28]|                Kite|        null|  2014-06-13|               en|    11.746|       4.3|  213|\n",
						"| 244478|      null|     [28, 878, 9648]|       Another Gantz|        null|  2011-04-22|               ja|    13.734|       7.1|   41|\n",
						"| 519176| tt7639528|   [35, 28, 878, 14]|Gintama 2: Rules ...|         134|  2018-08-04|               ja|     7.639|       6.4| 1128|\n",
						"| 672322|tt11991748| [28, 12, 18, 10749]|Rurouni Kenshin: ...|         137|  2021-06-04|               ja|    42.752|       7.4| 9195|\n",
						"| 432985|      null|[28, 12, 35, 14, ...|             Gintama|        null|  2017-07-14|               ja|    13.555|       6.9|   95|\n",
						"|1072941|      null|           [28, 878]|             Shinobi|        null|            |               en|       0.6|       0.0|    0|\n",
						"| 455476|      null|        [14, 28, 12]|Knights of the Zo...|        null|  2023-04-27|               en|   304.591|       6.3|   49|\n",
						"| 602063|tt11809034|            [28, 12]|Rurouni Kenshin: ...|         138|  2021-04-23|               ja|    31.001|       7.2| 9431|\n",
						"|  20329| tt0912597|[14, 28, 53, 878,...|Death Note: L Cha...|         129|  2008-02-07|               ja|     14.61|       6.0| 8691|\n",
						"| 960704|      null|        [28, 12, 14]|Fullmetal Alchemi...|        null|  2022-06-24|               ja|     97.28|       6.3|  154|\n",
						"| 447743| tt6340500|   [28, 12, 878, 14]|          Inuyashiki|         127|  2018-04-20|               ja|    13.378|       6.7| 2610|\n",
						"| 220447| tt5714216|[27, 14, 28, 12, ...|        Black Butler|         116|  2014-01-18|               ja|     8.858|       7.8| 1194|\n",
						"+-------+----------+--------------------+--------------------+------------+------------+-----------------+----------+----------+-----+\n",
						"only showing top 20 rows\n",
						"\n"
					]
				}
			],
			"source": [
				"# Exibir o resultado\n",
				"df_movies_refined.show()"
			]
		},
		{
			"attachments": {},
			"cell_type": "markdown",
			"metadata": {},
			"source": [
				"#### 3.2. Filtrar Series TMDB por Filme do TMDB (antes de unir DF SERIES)"
			]
		},
		{
			"cell_type": "code",
			"execution_count": 106,
			"metadata": {},
			"outputs": [],
			"source": [
				"# Aplicar regexp_replace no dataframe df_series_TMDB\n",
				"\n",
				"df_series_TMDB_titulos_datas = df_series_TMDB_trusted.select(\n",
				"    substring(col('first_air_date'), 1, 4).alias('releaseDate'),\n",
				"    col('name_replaced'),\n",
				"    col('id'),\n",
				"    col('genre_ids'),\n",
				"    col('original_language'),\n",
				"    col('popularity'),\n",
				"    col('vote_average'),\n",
				"    col('vote_count'),\n",
				"    col('name'),\n",
				"    col('first_air_date')\n",
				")\n",
				"\n",
				"# dataframe df_movies_TMDB\n",
				"df_movies_TMDB_titulos_datas = df_movies_TMDB_titulos_datas.select(col('title_replaced'))\n",
				"\n",
				"# Realizar a comparação de similaridade entre os títulos dos dataframes e filtrar pelo ano de lançamento\n",
				"df_series_TMDB_Layer1 = df_series_TMDB_titulos_datas.join(\n",
				"    df_movies_TMDB_titulos_datas,\n",
				"    expr(\n",
				"        \"(size(split(name_replaced, ' ')) = 1 AND \" +\n",
				"        \"size(filter(split(name_replaced, ' '), x -> length(x) > 3 AND instr(title_replaced, x) > 0)) >= 1) OR \" +\n",
				"        \"(size(split(name_replaced, ' ')) = 2 AND \" +\n",
				"        \"size(filter(split(name_replaced, ' '), x -> length(x) >= 1 AND instr(title_replaced, x) > 0)) >= 2) OR \" +\n",
				"        \"(size(split(name_replaced, ' ')) = 3 AND \" +\n",
				"        \"size(filter(split(name_replaced, ' '), x -> length(x) > 4 AND instr(title_replaced, x) > 0)) >= 2) OR \" +\n",
				"        \"(size(split(name_replaced, ' ')) = 4 AND \" +\n",
				"        \"size(filter(split(name_replaced, ' '), x -> length(x) > 3 AND instr(title_replaced, x) > 0)) >= 3) OR \" +\n",
				"        \"(size(split(name_replaced, ' ')) >= 5 AND \" +\n",
				"        \"size(filter(split(name_replaced, ' '), x -> length(x) >= 3 AND instr(title_replaced, x) > 0)) >= 3 AND \" +\n",
				"        \"levenshtein(title_replaced, name_replaced) <= 8)\"\n",
				"    ) &\n",
				"    (col('title_replaced').isNotNull()) &\n",
				"    (col('title_replaced') != '') &\n",
				"    (col('name_replaced').isNotNull()) &\n",
				"    (col('name_replaced') != ''),\n",
				"    'inner'\n",
				")\n",
				"\n",
				"# Apagar as colunas indesejadas\n",
				"df_series_TMDB_Layer1 = df_series_TMDB_Layer1.drop('title_replaced')"
			]
		},
		{
			"attachments": {},
			"cell_type": "markdown",
			"metadata": {},
			"source": [
				"#### 3.1 Unir DF das SERIES"
			]
		},
		{
			"cell_type": "code",
			"execution_count": 107,
			"metadata": {},
			"outputs": [],
			"source": [
				"# Aplicar regexp_replace no dataframe df_movies_IMDB\n",
				"df_series_IMDB_titulos_datas = df_series_IMDB.select(\n",
				"    regexp_replace(col('tituloPrincipal'), r\"[^a-zA-Z0-9\\s]\", \"\").alias('tituloPrincipal_replaced'),\n",
				"    substring(col('anoLancamento'), 1, 4).alias('anoLancamento'),\n",
				"    col('seriesId'),\n",
				"    col('tituloPrincipal'),\n",
				"    col('tempoMinutos'),\n",
				"    col('anoTermino'),\n",
				"    col('notaMedia'),\n",
				"    col('numeroVotos')\n",
				")\n",
				"\n",
				"# Realizar a comparação de similaridade entre os títulos dos dataframes e filtrar pelo ano de lançamento\n",
				"df_series_refined = df_series_TMDB_Layer1.join(\n",
				"    df_series_IMDB_titulos_datas,\n",
				"    expr(\n",
				"        \"(size(split(name_replaced, ' ')) = 1 AND \" +\n",
				"        \"size(filter(split(name_replaced, ' '), x -> length(x) > 3 AND instr(tituloPrincipal_replaced, x) > 0)) >= 1) OR \" +\n",
				"        \"(size(split(name_replaced, ' ')) = 2 AND \" +\n",
				"        \"size(filter(split(name_replaced, ' '), x -> length(x) >= 1 AND instr(tituloPrincipal_replaced, x) > 0)) >= 2) OR \" +\n",
				"        \"(size(split(name_replaced, ' ')) = 3 AND \" +\n",
				"        \"size(filter(split(name_replaced, ' '), x -> length(x) > 4 AND instr(tituloPrincipal_replaced, x) > 0)) >= 2) OR \" +\n",
				"        \"(size(split(name_replaced, ' ')) = 4 AND \" +\n",
				"        \"size(filter(split(name_replaced, ' '), x -> length(x) > 3 AND instr(tituloPrincipal_replaced, x) > 0)) >= 3) OR \" +\n",
				"        \"(size(split(name_replaced, ' ')) >= 5 AND \" +\n",
				"        \"size(filter(split(name_replaced, ' '), x -> length(x) >= 3 AND instr(tituloPrincipal_replaced, x) > 0)) >= 3 AND \" +\n",
				"        \"levenshtein(tituloPrincipal_replaced, name_replaced) <= 9)\"\n",
				"    ) &\n",
				"    (df_series_TMDB_Layer1['releaseDate'] == df_series_IMDB_titulos_datas['anoLancamento']) &\n",
				"    (col('tituloPrincipal_replaced').isNotNull()) &\n",
				"    (col('tituloPrincipal_replaced') != '') &\n",
				"    (col('name_replaced').isNotNull()) &\n",
				"    (col('name_replaced') != ''),\n",
				"    'left_outer'\n",
				")\n"
			]
		},
		{
			"cell_type": "code",
			"execution_count": 108,
			"metadata": {},
			"outputs": [],
			"source": [
				"# Criar colunas com a soma dos votos e a média ponderada\n",
				"df_series_refined = df_series_refined.withColumn('votos', col('vote_count') + col('numeroVotos'))\n",
				"\n",
				"df_series_refined = df_series_refined.withColumn('nota_media', when(\n",
				"    col('vote_count').isNotNull() & col('numeroVotos').isNotNull(),\n",
				"    (col('vote_average') * col('vote_count') + col('notaMedia') * col('numeroVotos')) / col('votos')\n",
				").otherwise(\n",
				"    when(col('vote_count').isNotNull(), col('vote_average')).otherwise(col('notaMedia'))\n",
				"))\n",
				"\n",
				"# Tratar valores nulos e arredondar a nota média ponderada para uma casa decimal\n",
				"df_series_refined = df_series_refined.withColumn('votos', when(col('votos').isNull(), col('vote_count')).otherwise(col('votos')))\n",
				"df_series_refined = df_series_refined.withColumn('nota_media', when(col('nota_media').isNull(), col('vote_average')).otherwise(col('nota_media')))\n",
				"df_series_refined = df_series_refined.withColumn('nota_media', format_number(col('nota_media'), 1))\n",
				"\n",
				"# Apagar as colunas indesejadas\n",
				"df_series_refined = df_series_refined.drop('releaseDate', 'tituloPrincipal_replaced', 'releaseDate', 'name_replaced','vote_average','vote_count','notaMedia','numeroVotos','tituloPrincipal','anoLancamento')\n",
				"\n",
				"# Selecione apenas as colunas linhas desejadas\n",
				"df_series_refined = df_series_refined.select('id','seriesId','genre_ids', 'name', 'tempoMinutos', 'first_air_date', 'anoTermino', 'original_language', 'popularity', 'nota_media', 'votos')\n",
				"df_series_refined = df_series_refined.distinct()\n"
			]
		},
		{
			"cell_type": "code",
			"execution_count": 109,
			"metadata": {},
			"outputs": [
				{
					"name": "stdout",
					"output_type": "stream",
					"text": [
						"+------+---------+--------------------+--------------------+------------+--------------+----------+-----------------+----------+----------+------+\n",
						"|    id| seriesId|           genre_ids|                name|tempoMinutos|first_air_date|anoTermino|original_language|popularity|nota_media| votos|\n",
						"+------+---------+--------------------+--------------------+------------+--------------+----------+-----------------+----------+----------+------+\n",
						"| 66103|tt5603356|  [16, 80, 18, 9648]|        Ace Attorney|          24|    2016-04-02|      null|               ja|     28.72|       6.5|   459|\n",
						"|105204|tt0367037|                [16]|New Fist of the N...|          58|    2003-07-04|      2004|               ja|     0.635|       6.8|   686|\n",
						"| 31911|tt1355642|  [10759, 16, 10765]|Fullmetal Alchemi...|          24|    2009-04-05|      2010|               ja|    69.346|       9.1|169446|\n",
						"|130728|tt4563516|            [16, 35]|DD Fist of the No...|          15|    2013-04-03|      null|               ja|      3.15|       6.7|    36|\n",
						"|116087|     null|            [16, 18]|          Graduation|        null|    1995-01-21|      null|               ja|      1.09|       0.0|     0|\n",
						"| 28136|tt0182629|     [10759, 16, 35]|     Rurouni Kenshin|          24|    1996-01-10|      1998|               ja|    69.748|       8.5| 20151|\n",
						"| 71999|     null|         [16, 10765]|        Battle Angel|        null|    1993-06-21|      null|               ja|    10.076|       7.2|     9|\n",
						"| 62798|     null|  [16, 10759, 10765]|               Blade|        null|    2011-07-01|      null|               ja|     9.229|       6.8|    64|\n",
						"| 45790|tt2359704|  [16, 10759, 10765]|JoJo's Bizarre Ad...|          30|    2012-10-06|      null|               ja|   118.285|       8.4| 25439|\n",
						"| 61398|tt7307124|  [10759, 16, 10765]|       Terra Formars|        null|    2014-09-26|      2014|               ja|    44.111|       7.0|   219|\n",
						"| 60572|tt0168366|  [16, 10759, 10765]|             Pokémon|          24|    1997-04-01|      null|               ja|    240.31|       7.5| 44977|\n",
						"| 36041|tt1738419|        [16, 35, 18]|           Bakuman。|          24|    2010-10-02|      2013|               ja|    27.463|       8.0|  2572|\n",
						"| 61398|tt3894916|  [10759, 16, 10765]|       Terra Formars|        null|    2014-09-26|      2016|               ja|    44.111|       6.5|  1362|\n",
						"| 62110|     null|[16, 35, 10759, 1...|Assassination Cla...|        null|    2015-01-10|      null|               ja|    53.486|       8.5|   871|\n",
						"| 50712|tt1316554|[16, 35, 18, 9648...|        Black Butler|          24|    2008-10-02|      2011|               ja|      56.1|       7.7|  8390|\n",
						"| 60862|     null|  [16, 10759, 10765]|JoJo's Bizarre Ad...|        null|    1993-11-19|      null|               ja|    18.411|       6.8|    36|\n",
						"| 37863|tt0421357|  [10759, 16, 10765]| Fullmetal Alchemist|          24|    2003-10-04|      2004|               ja|    65.958|       8.5| 72008|\n",
						"| 45952|tt0426719|[10765, 10759, 16...|     Hunter × Hunter|          23|    1999-10-16|      2001|               ja|    49.082|       8.6|  8517|\n",
						"| 55326|     null|            [16, 35]|DD Fist of the No...|        null|    2011-01-12|      null|               ja|     0.919|       6.0|     2|\n",
						"| 90293|tt9466298|[16, 18, 10759, 1...|Ghost in the Shel...|          25|    2020-04-23|      null|               ja|    22.923|       6.3|  2668|\n",
						"+------+---------+--------------------+--------------------+------------+--------------+----------+-----------------+----------+----------+------+\n",
						"only showing top 20 rows\n",
						"\n"
					]
				}
			],
			"source": [
				"# Exibir o resultado\n",
				"df_series_refined.show()"
			]
		},
		{
			"attachments": {},
			"cell_type": "markdown",
			"metadata": {},
			"source": [
				"## 4. Cria tabela actors  "
			]
		},
		{
			"cell_type": "code",
			"execution_count": 154,
			"metadata": {},
			"outputs": [],
			"source": [
				"\n",
				"# Cria DF Actors\n",
				"df_movies_actors = df_movies_IMDB_trusted.select(\"id\", \"personagem\", \"nomeArtista\", \"generoArtista\", \"anoNascimento\", \"anoFalecimento\", \"profissao\", \"titulosMaisConhecidos\")\n",
				"df_series_actors = df_series_IMDB_trusted.select(\"id\", \"personagem\", \"nomeArtista\", \"generoArtista\", \"anoNascimento\", \"anoFalecimento\", \"profissao\", \"titulosMaisConhecidos\")\n",
				"\n",
				"\n",
				"# Obter a lista de film_ids presentes na tabela de filmes selecionados\n",
				"filme_ids = df_movies_refined.select(\"movie_id\")\n",
				"serie_ids = df_series_refined.select(\"seriesId\")\n",
				"\n",
				"\n",
				"# Realizar o join entre os DataFrames\n",
				"df_movies_actors = df_movies_actors.join(filme_ids, df_movies_actors[\"id\"] == filme_ids[\"movie_id\"], \"inner\")\n",
				"df_series_actors = df_series_actors.join(serie_ids, df_series_actors[\"id\"] == serie_ids[\"seriesId\"], \"inner\")\n",
				"\n",
				"# Apaga coluna desnecessaria\n",
				"df_movies_actors = df_movies_actors.drop(\"movie_id\")\n",
				"df_series_actors = df_series_actors.drop(\"seriesId\")\n",
				"\n",
				"# Unir df Atores de filmes e series\n",
				"df_actors = df_movies_actors.unionAll(df_series_actors)\n",
				"df_actors = df_actors.withColumn(\"IdArtista\", F.monotonically_increasing_id())  # Adicionar uma coluna de ID único para os artistas\n",
				"\n",
				"# Apaga dados repetidos\n",
				"#df_actors = df_actors.distinct()\n",
				"\n",
				"# Atualizar o formato da coluna 'profissao'\n",
				"df_actors = df_actors.withColumn('profissao', split(regexp_replace(df_actors['profissao'], ',\\\\s*', ','), ','))\n",
				"\n",
				"# Atualizar o formato da coluna 'titulosMaisConhecidos'\n",
				"df_actors = df_actors.withColumn('titulosMaisConhecidos', split(regexp_replace(df_actors['titulosMaisConhecidos'], ',\\\\s*', ','), ','))\n"
			]
		},
		{
			"cell_type": "code",
			"execution_count": 155,
			"metadata": {},
			"outputs": [
				{
					"name": "stdout",
					"output_type": "stream",
					"text": [
						"Número de linhas no resultado: M  177\n",
						"Número de linhas no resultado: S 258\n",
						"Número de linhas no resultado:  435\n",
						"+---------+------------+-----------+-------------+-------------+--------------+-------------------+---------------------+---------+\n",
						"|       id|  personagem|nomeArtista|generoArtista|anoNascimento|anoFalecimento|          profissao|titulosMaisConhecidos|IdArtista|\n",
						"+---------+------------+-----------+-------------+-------------+--------------+-------------------+---------------------+---------+\n",
						"|tt3967878|Lee Yoon-hee|Han Hyo-joo|      actress|         1987|          null|[actress, composer]| [tt5797194, tt427...|        0|\n",
						"+---------+------------+-----------+-------------+-------------+--------------+-------------------+---------------------+---------+\n",
						"only showing top 1 row\n",
						"\n",
						"+---------+------------+-----------+-------------+-------------+--------------+----------------+---------------------+\n",
						"|       id|  personagem|nomeArtista|generoArtista|anoNascimento|anoFalecimento|       profissao|titulosMaisConhecidos|\n",
						"+---------+------------+-----------+-------------+-------------+--------------+----------------+---------------------+\n",
						"|tt3967878|Lee Yoon-hee|Han Hyo-joo|      actress|         1987|          null|actress,composer| tt5797194,tt42738...|\n",
						"+---------+------------+-----------+-------------+-------------+--------------+----------------+---------------------+\n",
						"only showing top 1 row\n",
						"\n",
						"+---------+---------------+--------------+-------------+-------------+--------------+---------+---------------------+\n",
						"|       id|     personagem|   nomeArtista|generoArtista|anoNascimento|anoFalecimento|profissao|titulosMaisConhecidos|\n",
						"+---------+---------------+--------------+-------------+-------------+--------------+---------+---------------------+\n",
						"|tt5603356|Reiji Mitsurugi|Masashi Tamaki|        actor|         null|          null|    actor| tt6484680,tt58181...|\n",
						"+---------+---------------+--------------+-------------+-------------+--------------+---------+---------------------+\n",
						"only showing top 1 row\n",
						"\n"
					]
				}
			],
			"source": [
				"\n",
				"count1 = df_movies_actors.count()\n",
				"print(\"Número de linhas no resultado: M \", count1)\n",
				"\n",
				"count2 = df_series_actors.count()\n",
				"print(\"Número de linhas no resultado: S\", count2)\n",
				"\n",
				"count3 = df_actors.count()\n",
				"print(\"Número de linhas no resultado: \", count3)\n",
				"\n",
				"# Exibir o DataFrame atualizado\n",
				"df_actors.show(1)\n",
				"df_movies_actors.show(1)\n",
				"df_series_actors.show(1)"
			]
		},
		{
			"attachments": {},
			"cell_type": "markdown",
			"metadata": {},
			"source": [
				"## 5. Cria Views  "
			]
		},
		{
			"cell_type": "code",
			"execution_count": 112,
			"metadata": {},
			"outputs": [],
			"source": [
				"df_movies_refined.createOrReplaceTempView(\"movies\")\n",
				"df_series_refined.createOrReplaceTempView(\"series\")\n",
				"df_actors.createOrReplaceTempView(\"actors\")"
			]
		},
		{
			"cell_type": "code",
			"execution_count": 113,
			"metadata": {},
			"outputs": [
				{
					"name": "stdout",
					"output_type": "stream",
					"text": [
						"+------+---------+-----------------+--------------------+------------+------------+-----------------+----------+----------+-----+\n",
						"|    id| movie_id|        genre_ids|               title|tempoMinutos|release_date|original_language|popularity|nota_media|votos|\n",
						"+------+---------+-----------------+--------------------+------------+------------+-----------------+----------+----------+-----+\n",
						"|467824|tt3967878|[878, 28, 12, 53]|Illang: The Wolf ...|         139|  2018-07-25|               ko|     18.65|       5.9| 5538|\n",
						"|349176|     null|[28, 12, 35, 878]|Assassination Cla...|        null|  2015-03-21|               ja|    11.802|       7.3|  163|\n",
						"| 16007|tt0758742|   [14, 9648, 53]|          Death Note|         126|  2006-06-17|               ja|    18.397|       7.5|31297|\n",
						"+------+---------+-----------------+--------------------+------------+------------+-----------------+----------+----------+-----+\n",
						"only showing top 3 rows\n",
						"\n",
						"+------+---------+------------------+--------------------+------------+--------------+----------+-----------------+----------+----------+------+\n",
						"|    id| seriesId|         genre_ids|                name|tempoMinutos|first_air_date|anoTermino|original_language|popularity|nota_media| votos|\n",
						"+------+---------+------------------+--------------------+------------+--------------+----------+-----------------+----------+----------+------+\n",
						"| 66103|tt5603356|[16, 80, 18, 9648]|        Ace Attorney|          24|    2016-04-02|      null|               ja|     28.72|       6.5|   459|\n",
						"|105204|tt0367037|              [16]|New Fist of the N...|          58|    2003-07-04|      2004|               ja|     0.635|       6.8|   686|\n",
						"| 31911|tt1355642|[10759, 16, 10765]|Fullmetal Alchemi...|          24|    2009-04-05|      2010|               ja|    69.346|       9.1|169446|\n",
						"+------+---------+------------------+--------------------+------------+--------------+----------+-----------------+----------+----------+------+\n",
						"only showing top 3 rows\n",
						"\n",
						"+---------+--------------------+-----------------+-------------+-------------+--------------+--------------------+---------------------+---------+\n",
						"|       id|          personagem|      nomeArtista|generoArtista|anoNascimento|anoFalecimento|           profissao|titulosMaisConhecidos|IdArtista|\n",
						"+---------+--------------------+-----------------+-------------+-------------+--------------+--------------------+---------------------+---------+\n",
						"|tt1738419|         KimNobuhiro|    Marc Diraison|        actor|         1975|          null|[[actormiscellane...| [[tt0388629tt2210...|        0|\n",
						"|tt2230515|  Lionet no SomaSoma|Katsuyuki Konishi|        actor|         1973|          null|[[actormusic_depa...| [[tt3208522tt1869...|        1|\n",
						"|tt2230515|Sagittarius no Se...|      Tôru Furuya|        actor|         1953|          null| [[actorsoundtrack]]| [[tt0851578tt0103...|        2|\n",
						"+---------+--------------------+-----------------+-------------+-------------+--------------+--------------------+---------------------+---------+\n",
						"only showing top 3 rows\n",
						"\n"
					]
				}
			],
			"source": [
				"df_movies_refined.show(3)\n",
				"df_series_refined.show(3)\n",
				"df_actors.show(3)"
			]
		},
		{
			"attachments": {},
			"cell_type": "markdown",
			"metadata": {
				"editable": true,
				"trusted": true
			},
			"source": [
				"## 5. Escreve os dados na camada Refined no S3 no formato parquet\n"
			]
		},
		{
			"cell_type": "code",
			"execution_count": 114,
			"metadata": {
				"editable": true,
				"trusted": true
			},
			"outputs": [
				{
					"data": {
						"text/plain": [
							"'\\n# Obtém a data atual para criar os diretórios correspondentes\\ncurrent_date = datetime.now()\\nano = current_date.strftime(\"%Y\")\\nmes = current_date.strftime(\"%m\")\\ndia = current_date.strftime(\"%d\")\\n\\n# Define os caminhos de destino no S3 para os DataFrames no formato Parquet\\npath_ref_movies = \"s3://data-lake-do-fabricio/Refined/Filmes/{ano}/{mes}/{dia}/\"\\npath_ref_series = \"s3://data-lake-do-fabricio/Refined/Series/{ano}/{mes}/{dia}/\"\\npath_ref_actors = \"s3://data-lake-do-fabricio/Refined/Actors/{ano}/{mes}/{dia}/\"\\n\\n# Salva os DataFrames no formato Parquet no S3\\ndf_movies_refined.write.parquet(path_ref_movies.format(ano=ano, mes=mes, dia=dia))\\ndf_series_refined.write.parquet(path_ref_series.format(ano=ano, mes=mes, dia=dia))\\ndf_actors.write.parquet(path_ref_actors.format(ano=ano, mes=mes, dia=dia))\\n'"
						]
					},
					"execution_count": 114,
					"metadata": {},
					"output_type": "execute_result"
				}
			],
			"source": [
				"\"\"\"\n",
				"# Obtém a data atual para criar os diretórios correspondentes\n",
				"current_date = datetime.now()\n",
				"ano = current_date.strftime(\"%Y\")\n",
				"mes = current_date.strftime(\"%m\")\n",
				"dia = current_date.strftime(\"%d\")\n",
				"\n",
				"# Define os caminhos de destino no S3 para os DataFrames no formato Parquet\n",
				"path_ref_movies = \"s3://data-lake-do-fabricio/Refined/Filmes/{ano}/{mes}/{dia}/\"\n",
				"path_ref_series = \"s3://data-lake-do-fabricio/Refined/Series/{ano}/{mes}/{dia}/\"\n",
				"path_ref_actors = \"s3://data-lake-do-fabricio/Refined/Actors/{ano}/{mes}/{dia}/\"\n",
				"\n",
				"# Salva os DataFrames no formato Parquet no S3\n",
				"df_movies_refined.write.parquet(path_ref_movies.format(ano=ano, mes=mes, dia=dia))\n",
				"df_series_refined.write.parquet(path_ref_series.format(ano=ano, mes=mes, dia=dia))\n",
				"df_actors.write.parquet(path_ref_actors.format(ano=ano, mes=mes, dia=dia))\n",
				"\"\"\"\n"
			]
		}
	],
	"metadata": {
		"kernelspec": {
			"display_name": "Python 3",
			"language": "python",
			"name": "python3"
		},
		"language_info": {
			"codemirror_mode": {
				"name": "ipython",
				"version": 3
			},
			"file_extension": ".py",
			"mimetype": "text/x-python",
			"name": "python",
			"nbconvert_exporter": "python",
			"pygments_lexer": "ipython3",
			"version": "3.9.1"
		}
	},
	"nbformat": 4,
	"nbformat_minor": 4
}
