{
	"cells": [
		{
			"cell_type": "code",
			"execution_count": 1,
			"metadata": {
				"trusted": true
			},
			"outputs": [
				{
					"name": "stdout",
					"output_type": "stream",
					"text": [
						"Requirement already satisfied: pyspark in /opt/apache-spark/python (3.3.0)\n",
						"Requirement already satisfied: py4j==0.10.9.5 in /home/fmenegolo/.asdf/installs/python/3.9.1/lib/python3.9/site-packages (from pyspark) (0.10.9.5)\n",
						"\u001b[33mWARNING: You are using pip version 20.2.3; however, version 23.1.2 is available.\n",
						"You should consider upgrading via the '/home/fmenegolo/.asdf/installs/python/3.9.1/bin/python3.9 -m pip install --upgrade pip' command.\u001b[0m\n",
						"Reshimming asdf python...\n"
					]
				}
			],
			"source": [
				"!pip install pyspark"
			]
		},
		{
			"cell_type": "code",
			"execution_count": 2,
			"metadata": {},
			"outputs": [
				{
					"name": "stdout",
					"output_type": "stream",
					"text": [
						"/usr/sbin/hadoop\n"
					]
				},
				{
					"name": "stderr",
					"output_type": "stream",
					"text": [
						"SLF4J: Class path contains multiple SLF4J bindings.\n",
						"SLF4J: Found binding in [jar:file:/opt/apache-spark/jars/log4j-slf4j-impl-2.17.2.jar!/org/slf4j/impl/StaticLoggerBinder.class]\n",
						"SLF4J: Found binding in [jar:file:/usr/share/hadoop/common/lib/slf4j-reload4j-1.7.36.jar!/org/slf4j/impl/StaticLoggerBinder.class]\n",
						"SLF4J: See http://www.slf4j.org/codes.html#multiple_bindings for an explanation.\n",
						"SLF4J: Actual binding is of type [org.apache.logging.slf4j.Log4jLoggerFactory]\n",
						"Setting default log level to \"WARN\".\n",
						"To adjust logging level use sc.setLogLevel(newLevel). For SparkR, use setLogLevel(newLevel).\n"
					]
				},
				{
					"name": "stdout",
					"output_type": "stream",
					"text": [
						"23/05/27 00:59:04 WARN Utils: Service 'SparkUI' could not bind on port 4040. Attempting port 4041.\n",
						"23/05/27 00:59:04 WARN Utils: Service 'SparkUI' could not bind on port 4041. Attempting port 4042.\n"
					]
				}
			],
			"source": [
				"from pyspark.sql import SparkSession\n",
				"from pyspark import SparkContext, SQLContext\n",
				"from pyspark.sql.functions import col, substring, when, regexp_replace, size, expr\n",
				"from pyspark.sql.types import StructType, StructField, StringType, FloatType, IntegerType\n",
				"\n",
				"\n",
				"spark = SparkSession \\\n",
				"    .builder \\\n",
				"    .master(\"local[*]\")\\\n",
				"    .appName(\"ELT TRUSTED\") \\\n",
				"    .getOrCreate()\n"
			]
		},
		{
			"cell_type": "code",
			"execution_count": 3,
			"metadata": {},
			"outputs": [],
			"source": [
				"# Definir o esquema para o DataFrame df_movies_IMDB\n",
				"schema_movies_IMDB = StructType([\n",
				"    StructField(\"id\", StringType(), True),\n",
				"    StructField(\"tituloPincipal\", StringType(), True),\n",
				"    StructField(\"tituloOriginal\", StringType(), True),\n",
				"    StructField(\"anoLancamento\", StringType(), True),\n",
				"    StructField(\"tempoMinutos\", StringType(), True),\n",
				"    StructField(\"genero\", StringType(), True),\n",
				"    StructField(\"notaMedia\", FloatType(), True),  # Definir tipo como FloatType()\n",
				"    StructField(\"numeroVotos\", IntegerType(), True),  # Definir tipo como IntegerType()\n",
				"    StructField(\"generoArtista\", StringType(), True),\n",
				"    StructField(\"personagem\", StringType(), True),\n",
				"    StructField(\"nomeArtista\", StringType(), True),\n",
				"    StructField(\"anoNascimento\", StringType(), True),  \n",
				"    StructField(\"anoFalecimento\", StringType(), True),  \n",
				"    StructField(\"profissao\", StringType(), True),\n",
				"    StructField(\"titulosMaisConhecidos\", StringType(), True)\n",
				"])\n",
				"\n",
				"# Definir o esquema para o DataFrame df_series_IMDB\n",
				"schema_series_IMDB = StructType([\n",
				"    StructField(\"id\", StringType(), True),\n",
				"    StructField(\"tituloPincipal\", StringType(), True),\n",
				"    StructField(\"tituloOriginal\", StringType(), True),\n",
				"    StructField(\"anoLancamento\", StringType(), True), \n",
				"    StructField(\"anoTermino\", StringType(), True),  \n",
				"    StructField(\"tempoMinutos\", IntegerType(), True),  # Definir tipo como IntegerType()\n",
				"    StructField(\"genero\", StringType(), True),\n",
				"    StructField(\"notaMedia\", FloatType(), True),  # Definir tipo como FloatType()\n",
				"    StructField(\"numeroVotos\", IntegerType(), True),  # Definir tipo como IntegerType()\n",
				"    StructField(\"generoArtista\", StringType(), True),\n",
				"    StructField(\"personagem\", StringType(), True),\n",
				"    StructField(\"nomeArtista\", StringType(), True),\n",
				"    StructField(\"anoNascimento\", StringType(), True),  \n",
				"    StructField(\"anoFalecimento\", StringType(), True),  \n",
				"    StructField(\"profissao\", StringType(), True),\n",
				"    StructField(\"titulosMaisConhecidos\", StringType(), True)\n",
				"])"
			]
		},
		{
			"cell_type": "code",
			"execution_count": 4,
			"metadata": {},
			"outputs": [
				{
					"name": "stderr",
					"output_type": "stream",
					"text": [
						"                                                                                \r"
					]
				}
			],
			"source": [
				"path1 = f\"/mnt/wsl/PHYSICALDRIVE2/Projects/Compasso/Azimute/Sprint_7/Desafio01_ETL/assets/\"\n",
				"df_movies_IMDB = spark.read.option(\"delimiter\", \"|\").schema(schema_movies_IMDB).csv(path1 + 'movies.csv', header=True)\n",
				"df_series_IMDB = spark.read.option(\"delimiter\", \"|\").schema(schema_series_IMDB).csv(path1 + 'series.csv', header=True)\n",
				"\n",
				"path2 = f\"/mnt/wsl/PHYSICALDRIVE2/Projects/Compasso/Azimute/Sprint_8/Desafio02_ETL/Tarefa_02/assets/\"\n",
				"df_movies_TMDB = spark.read.json(path2 + 'movies.json') \n",
				"df_series_TMDB = spark.read.json(path2 + 'series.json')"
			]
		},
		{
			"cell_type": "code",
			"execution_count": 5,
			"metadata": {},
			"outputs": [],
			"source": [
				"df_movies_IMDB = df_movies_IMDB.withColumnRenamed(\"tituloPincipal\", \"tituloPrincipal\")\n",
				"df_series_IMDB = df_series_IMDB.withColumnRenamed(\"tituloPincipal\", \"tituloPrincipal\")"
			]
		},
		{
			"cell_type": "markdown",
			"metadata": {},
			"source": [
				"## 2. \n",
				" Filtro os Filmes do BD Local com lista de filmes do TMDB"
			]
		},
		{
			"cell_type": "code",
			"execution_count": 6,
			"metadata": {
				"trusted": true
			},
			"outputs": [],
			"source": [
				"\n",
				"# Converter a coluna 'title' do DataFrame JSON para um array de palavras e extrair o ano de lançamento\n",
				"df_movies_TMDB_titulos_datas = df_movies_TMDB.select(\n",
				"    regexp_replace(col('title'), r\"[^a-zA-Z0-9\\s]\", \"\").alias('title_replaced'),\n",
				"    substring(col('release_date'), 1, 4).alias('releaseDate')\n",
				")\n",
				"\n",
				"# Aplicar substituição nos títulos\n",
				"df_movies_IMDB = df_movies_IMDB.withColumn('tituloPrincipal_replaced', regexp_replace(col('tituloPrincipal'), r\"[^a-zA-Z0-9\\s]\", \"\"))\n",
				"\n",
				"# Realizar a filtragem dos títulos\n",
				"df_movies_IMDB_trusted = df_movies_IMDB.join(df_movies_TMDB_titulos_datas,\n",
				"    expr(\n",
				"        \"(size(split(tituloPrincipal_replaced, ' ')) = 1 AND \" +\n",
				"        \"size(filter(split(tituloPrincipal_replaced, ' '), x -> length(x) > 4 AND instr(title_replaced, x) > 0)) >= 1) OR \" +\n",
				"        \"(size(split(tituloPrincipal_replaced, ' ')) = 2 AND \" +\n",
				"        \"size(filter(split(tituloPrincipal_replaced, ' '), x -> length(x) >= 1 AND instr(title_replaced, x) > 0)) >= 2) OR \" +\n",
				"        \"(size(split(tituloPrincipal_replaced, ' ')) >= 3 AND \" +\n",
				"        \"size(filter(split(tituloPrincipal_replaced, ' '), x -> length(x) > 3 AND instr(title_replaced, x) > 0)) >= 2)\"\n",
				"    ) &\n",
				"    (df_movies_IMDB['anoLancamento'] == df_movies_TMDB_titulos_datas['releaseDate']) &\n",
				"    (col('tituloPrincipal_replaced').isNotNull()) &\n",
				"    (col('tituloPrincipal_replaced') != '') &\n",
				"    (col('title_replaced').isNotNull()) &\n",
				"    (col('title_replaced') != ''),\n",
				"    'inner')\n",
				"\n",
				"# Remover as colunas 'title' e 'releaseDate' do DataFrame\n",
				"#df_movies_IMDB_trusted = df_movies_IMDB_trusted.drop('title_replaced', 'releaseDate')\n",
				"\n",
				"# Trata os valores \"NA\" na coluna \"anoFalecimento\"\n",
				"df_movies_IMDB_trusted = df_movies_IMDB_trusted.withColumn(\"anoFalecimento\", when(col(\"anoFalecimento\") == \"\\\\N\", None).otherwise(col(\"anoFalecimento\")))\n",
				"df_movies_IMDB_trusted = df_movies_IMDB_trusted.withColumn(\"anoNascimento\", when(col(\"anoNascimento\") == \"\\\\N\", None).otherwise(col(\"anoNascimento\")))\n",
				"df_movies_IMDB_trusted = df_movies_IMDB_trusted.withColumn(\"tempoMinutos\", when(col(\"tempoMinutos\") == \"\\\\N\", None).otherwise(col(\"tempoMinutos\")))\n",
				"df_movies_IMDB_trusted = df_movies_IMDB_trusted.withColumn(\"notaMedia\", when(col(\"notaMedia\") == \"\\\\N\", None).otherwise(col(\"notaMedia\")))\n",
				"df_movies_IMDB_trusted = df_movies_IMDB_trusted.withColumn(\"numeroVotos\", when(col(\"numeroVotos\") == \"\\\\N\", None).otherwise(col(\"numeroVotos\")))\n",
				"\n",
				"# Elimina possiveis Redundâncias\n",
				"df_movies_IMDB_trusted = df_movies_IMDB_trusted.distinct()"
			]
		},
		{
			"cell_type": "code",
			"execution_count": 7,
			"metadata": {},
			"outputs": [
				{
					"name": "stderr",
					"output_type": "stream",
					"text": [
						"                                                                                \r"
					]
				},
				{
					"name": "stdout",
					"output_type": "stream",
					"text": [
						"+----------+--------------------+--------------------+-------------+------------+--------------------+---------+-----------+-------------+--------------------+------------------+-------------+--------------+--------------------+---------------------+------------------------+--------------------+-----------+\n",
						"|        id|     tituloPrincipal|      tituloOriginal|anoLancamento|tempoMinutos|              genero|notaMedia|numeroVotos|generoArtista|          personagem|       nomeArtista|anoNascimento|anoFalecimento|           profissao|titulosMaisConhecidos|tituloPrincipal_replaced|      title_replaced|releaseDate|\n",
						"+----------+--------------------+--------------------+-------------+------------+--------------------+---------+-----------+-------------+--------------------+------------------+-------------+--------------+--------------------+---------------------+------------------------+--------------------+-----------+\n",
						"| tt0405821|            Casshern|            Casshern|         2004|         142|       Action,Sci-Fi|      6.0|      13532|        actor|    Dr. Kotaro Azuma|       Akira Terao|         1947|          null|      actor,producer| tt0089881,tt01819...|                Casshern|Casshern  Reencar...|       2004|\n",
						"| tt0405821|            Casshern|            Casshern|         2004|         142|       Action,Sci-Fi|      6.0|      13532|      actress|         Luna Kozuki|        Kumiko Asô|         1978|          null|  actress,soundtrack| tt0368855,tt01557...|                Casshern|Casshern  Reencar...|       2004|\n",
						"| tt0405821|            Casshern|            Casshern|         2004|         142|       Action,Sci-Fi|      6.0|      13532|      actress|        Midori Azuma|    Kanako Higuchi|         1958|          null|             actress| tt0405821,tt02838...|                Casshern|Casshern  Reencar...|       2004|\n",
						"| tt0405821|            Casshern|            Casshern|         2004|         142|       Action,Sci-Fi|      6.0|      13532|        actor|Tetsuya AzumaCass...|      Yûsuke Iseya|         1976|          null|actor,director,wr...| tt1789898,tt14360...|                Casshern|Casshern  Reencar...|       2004|\n",
						"| tt0810827|Death Note: The L...|Death Note - Desu...|         2006|         141|Adventure,Crime,D...|      7.2|      16877|      actress|          Misa Amane|        Erika Toda|         1988|          null|             actress| tt0912597,tt50583...|    Death Note The La...|Death Note O Prim...|       2006|\n",
						"| tt0811080|         Speed Racer|         Speed Racer|         2008|         135|Action,Adventure,...|      6.0|      74455|        actor|               Speed|      Emile Hirsch|         1985|          null|actor,soundtrack,...| tt0265208,tt10933...|             Speed Racer|         Speed Racer|       2008|\n",
						"| tt1219827|  Ghost in the Shell|  Ghost in the Shell|         2017|         107|  Action,Crime,Drama|      6.3|     216129|      actress|               Major|Scarlett Johansson|         1984|          null|actress,soundtrac...| tt1798709,tt03352...|      Ghost in the Shell|A Vigilante do Am...|       2017|\n",
						"|tt11809034|Rurouni Kenshin: ...|Rurôni Kenshin: S...|         2021|         138|        Action,Drama|      7.2|       9059|        actor|        Hajime Saito|     Yôsuke Eguchi|         1967|          null|               actor| tt1054122,tt30295...|    Rurouni Kenshin F...|   Samurai X O Final|       2021|\n",
						"|tt11809034|Rurouni Kenshin: ...|Rurôni Kenshin: S...|         2021|         138|        Action,Drama|      7.2|       9059|        actor|    Enishi Yukishiro|          Mackenyu|         1996|          null|    actor,soundtrack| tt2557478,tt11809...|    Rurouni Kenshin F...|   Samurai X O Final|       2021|\n",
						"| tt1142972|  Detroit Metal City|Detoroito Metaru ...|         2008|         104|  Comedy,Drama,Music|      6.6|       2603|        actor|Sôichi NegishiJoh...|Ken'ichi Matsuyama|         1985|          null|               actor| tt1270842,tt08108...|      Detroit Metal City|  Detroit Metal City|       2008|\n",
						"+----------+--------------------+--------------------+-------------+------------+--------------------+---------+-----------+-------------+--------------------+------------------+-------------+--------------+--------------------+---------------------+------------------------+--------------------+-----------+\n",
						"only showing top 10 rows\n",
						"\n"
					]
				},
				{
					"name": "stderr",
					"output_type": "stream",
					"text": [
						"                                                                                \r"
					]
				},
				{
					"name": "stdout",
					"output_type": "stream",
					"text": [
						"Número de linhas antes Filmes IMDB:  1045161\n"
					]
				},
				{
					"name": "stderr",
					"output_type": "stream",
					"text": [
						"                                                                                \r"
					]
				},
				{
					"name": "stdout",
					"output_type": "stream",
					"text": [
						"Número de linhas no resultado:  166\n"
					]
				},
				{
					"name": "stderr",
					"output_type": "stream",
					"text": [
						"[Stage 17:==================================================>       (7 + 1) / 8]\r"
					]
				},
				{
					"name": "stdout",
					"output_type": "stream",
					"text": [
						"Número de Filmes Relacionados no resultado:  28\n"
					]
				},
				{
					"name": "stderr",
					"output_type": "stream",
					"text": [
						"                                                                                \r"
					]
				}
			],
			"source": [
				"\n",
				"df_movies_IMDB_trusted.show(10)\n",
				"print(\"Número de linhas antes Filmes IMDB: \", df_movies_IMDB.count())\n",
				"print(\"Número de linhas no resultado: \", df_movies_IMDB_trusted.count())\n",
				"count = df_movies_IMDB_trusted.select('title_replaced').distinct().count()\n",
				"print(\"Número de Filmes Relacionados no resultado: \", count)"
			]
		},
		{
			"cell_type": "markdown",
			"metadata": {},
			"source": [
				"## 3. \n",
				"Filtro as Series do BD Local com lista de series do TMDB"
			]
		},
		{
			"cell_type": "code",
			"execution_count": 8,
			"metadata": {
				"trusted": true
			},
			"outputs": [],
			"source": [
				"# Converter a coluna 'name' e a substring de 'first_air_date' do DataFrame JSON para o DataFrame do TMDB\n",
				"df_series_TMDB_titulos_datas = df_series_TMDB.select(regexp_replace(col('name'), r\"[^a-zA-Z0-9\\s]\", \"\").alias('title_replaced'),\n",
				"    substring(col('first_air_date'), 1, 4).alias('releaseDate'))\n",
				"\n",
				"# Aplicar substituição nos títulos\n",
				"df_series_IMDB = df_series_IMDB.withColumn('tituloPrincipal_replaced', regexp_replace(col('tituloPrincipal'), r\"[^a-zA-Z0-9\\s]\", \"\"))\n",
				"\n",
				"# Realizar a filtragem dos títulos e anos de lançamento\n",
				"\n",
				"df_series_IMDB_layer1 = df_series_IMDB.join(df_series_TMDB_titulos_datas,\n",
				"    expr(\n",
				"        \"(size(split(tituloPrincipal_replaced, ' ')) = 1 AND \" +\n",
				"        \"size(filter(split(tituloPrincipal_replaced, ' '), x -> length(x) > 3 AND instr(title_replaced, x) > 0)) >= 1) OR \" +\n",
				"        \"(size(split(tituloPrincipal_replaced, ' ')) = 2 AND \" +\n",
				"        \"size(filter(split(tituloPrincipal_replaced, ' '), x -> length(x) >= 1 AND instr(title_replaced, x) > 0)) >= 2) OR \" +\n",
				"        \"(size(split(tituloPrincipal_replaced, ' ')) >= 3 AND \" +\n",
				"        \"size(filter(split(tituloPrincipal_replaced, ' '), x -> length(x) > 3 AND instr(title_replaced, x) > 0)) >= 2)\"\n",
				"    ) &\n",
				"    (df_series_IMDB['anoLancamento'] == df_series_TMDB_titulos_datas['releaseDate']) &\n",
				"    (col('tituloPrincipal_replaced').isNotNull()) &\n",
				"    (col('tituloPrincipal_replaced') != '') &\n",
				"    (col('title_replaced').isNotNull()) &\n",
				"    (col('title_replaced') != ''),\n",
				"    'inner')\n",
				"\n",
				"# Remover as colunas 'title' e 'releaseDate' do DataFrame\n",
				"#df_series_IMDB_layer1 = df_series_IMDB_layer1.drop('title_replaced', 'releaseDate')\n",
				"\n",
				"df_series_IMDB_layer1 = df_series_IMDB_layer1.withColumn(\"anoTermino\", when(col(\"anoTermino\") == \"\\\\N\", None).otherwise(col(\"anoTermino\")))\n",
				"df_series_IMDB_layer1 = df_series_IMDB_layer1.withColumn(\"tempoMinutos\", when(col(\"tempoMinutos\") == \"\\\\N\", None).otherwise(col(\"tempoMinutos\")))\n",
				"df_series_IMDB_layer1 = df_series_IMDB_layer1.withColumn(\"notaMedia\", when(col(\"notaMedia\") == \"\\\\N\", None).otherwise(col(\"notaMedia\")))\n",
				"df_series_IMDB_layer1 = df_series_IMDB_layer1.withColumn(\"numeroVotos\", when(col(\"numeroVotos\") == \"\\\\N\", None).otherwise(col(\"numeroVotos\")))\n",
				"df_series_IMDB_layer1 = df_series_IMDB_layer1.withColumn(\"anoNascimento\", when(col(\"anoNascimento\") == \"\\\\N\", None).otherwise(col(\"anoNascimento\")))\n",
				"df_series_IMDB_layer1 = df_series_IMDB_layer1.withColumn(\"anoFalecimento\", when(col(\"anoFalecimento\") == \"\\\\N\", None).otherwise(col(\"anoFalecimento\")))\n",
				"df_series_IMDB_layer1 = df_series_IMDB_layer1.withColumn(\"anoFalecimento\", when(col(\"anoFalecimento\") == \"\\\\N\", None).otherwise(col(\"anoFalecimento\")))\n",
				"\n",
				"# Elimina possiveis Redundâncias\n",
				"df_series_IMDB_layer1 = df_series_IMDB_layer1.distinct()\n",
				"\n"
			]
		},
		{
			"cell_type": "code",
			"execution_count": 9,
			"metadata": {},
			"outputs": [
				{
					"name": "stderr",
					"output_type": "stream",
					"text": [
						"                                                                                \r"
					]
				},
				{
					"name": "stdout",
					"output_type": "stream",
					"text": [
						"+---------+--------------------+--------------------+-------------+----------+------------+--------------------+---------+-----------+-------------+--------------------+-----------------+-------------+--------------+------------------+---------------------+------------------------+--------------------+-----------+\n",
						"|       id|     tituloPrincipal|      tituloOriginal|anoLancamento|anoTermino|tempoMinutos|              genero|notaMedia|numeroVotos|generoArtista|          personagem|      nomeArtista|anoNascimento|anoFalecimento|         profissao|titulosMaisConhecidos|tituloPrincipal_replaced|      title_replaced|releaseDate|\n",
						"+---------+--------------------+--------------------+-------------+----------+------------+--------------------+---------+-----------+-------------+--------------------+-----------------+-------------+--------------+------------------+---------------------+------------------------+--------------------+-----------+\n",
						"|tt0078570|The Rose of Versa...|   Berusaiyu no bara|         1979|      1980|          24|Action,Animation,...|      8.4|       2070|        actor|               Andre|     Tarô Shigaki|         1951|          null|             actor| tt0078349,tt00785...|    The Rose of Versa...|The Rose of Versa...|       1979|\n",
						"|tt0108880|Ninja Sentai Kaku...|Ninja sentai Kaku...|         1994|      1995|          25|Action,Adventure,...|      7.6|        194|        actor|       The Announcer|    Enjo Sanyutei|         1944|          2021|      actor,writer| tt0085392,tt20879...|    Ninja Sentai Kaku...|Ninja Sentai Kaku...|       1994|\n",
						"|tt0159186|Mobile Suit Zeta ...|Kidô senshi Z Gundam|         1985|      1986|          30|Action,Animation,...|      8.1|       1323|        actor|     Cpt. Bright Noa|       Dave Kelly|         null|          null|             actor| tt0159186,tt02572...|    Mobile Suit Zeta ...|Mobile Suit Zeta ...|       1985|\n",
						"|tt0168375|A Little Princess...|        Shôkôjo Sêra|         1985|      1985|          24|Animation,Drama,H...|      7.8|       1419|      actress|          Sara Crewe|   Sumi Shimamoto|         1954|          null|           actress| tt0119698,tt00875...|    A Little Princess...|      Princess Sarah|       1985|\n",
						"|tt0168391|The Adventures of...|  Tomu Sôyâ no bôken|         1980|      1980|          26|Adventure,Animati...|      8.0|        719|      actress|      Becky Thatcher|        Keiko Han|         1953|          null|actress,soundtrack| tt0084564,tt03869...|    The Adventures of...|The Adventures of...|       1980|\n",
						"|tt0169473|          Mazinger Z|       Majingâ Zetto|         1972|      1974|          30|Action,Animation,...|      7.8|       1384|      actress|              Sayaka|Minori Matsushima|         1940|          2022|           actress| tt0178148,tt00845...|              Mazinger Z|          Mazinger Z|       1972|\n",
						"|tt0180345|Dancouga: Super B...|Chôjû kishin Danc...|         1985|      1985|          25|Action,Animation,...|      7.3|         54|        actor|           Ryô Shiba|  Kaneto Shiozawa|         1954|          2000|             actor| tt0292103,tt00902...|    Dancouga Super Be...|Dancougar  Super ...|       1985|\n",
						"|tt0182638|Special Rescue Co...|Special Rescue Co...|         1991|      null|        null|                  \\N|      8.2|         35|        actor|Knight FireRyouma...| Masaru Yamashita|         1967|          null|             actor| tt0182638,tt01841...|    Special Rescue Co...|Super Rescue Solb...|       1991|\n",
						"|tt0184168|       Ultraman Gaia|     Urutoraman Gaia|         1998|      1999|          30|Action,Adventure,...|      8.3|        167|      actress|         Reiko Yoshi|    Yukari Ishida|         1974|          null|           actress| tt0184168,tt03901...|           Ultraman Gaia|       Ultraman Gaia|       1998|\n",
						"|tt0088509|         Dragon Ball|Dragon Ball: Dora...|         1986|      1989|          24|Action,Adventure,...|      8.6|      58242|      actress|            Son Gokû|    Masako Nozawa|         1936|          null|actress,soundtrack| tt0142251,tt32085...|             Dragon Ball|         Dragon Ball|       1986|\n",
						"+---------+--------------------+--------------------+-------------+----------+------------+--------------------+---------+-----------+-------------+--------------------+-----------------+-------------+--------------+------------------+---------------------+------------------------+--------------------+-----------+\n",
						"only showing top 10 rows\n",
						"\n",
						"Número de linhas antes Series IMDB:  468783\n"
					]
				},
				{
					"name": "stderr",
					"output_type": "stream",
					"text": [
						"                                                                                \r"
					]
				},
				{
					"name": "stdout",
					"output_type": "stream",
					"text": [
						"Número de linhas no resultado:  32023\n"
					]
				},
				{
					"name": "stderr",
					"output_type": "stream",
					"text": [
						"[Stage 38:==================================================>       (7 + 1) / 8]\r"
					]
				},
				{
					"name": "stdout",
					"output_type": "stream",
					"text": [
						"Número de Series Relacionadas no resultado:  3136\n"
					]
				},
				{
					"name": "stderr",
					"output_type": "stream",
					"text": [
						"                                                                                \r"
					]
				}
			],
			"source": [
				"\n",
				"df_series_IMDB_layer1.show(10)\n",
				"print(\"Número de linhas antes Series IMDB: \", df_series_IMDB.count())\n",
				"print(\"Número de linhas no resultado: \", df_series_IMDB_layer1.count())\n",
				"count = df_series_IMDB_layer1.select('title_replaced').distinct().count()\n",
				"print(\"Número de Series Relacionadas no resultado: \", count)"
			]
		},
		{
			"attachments": {},
			"cell_type": "markdown",
			"metadata": {},
			"source": [
				"## 4. \n",
				"Filtro as Series do TMDB com lista de Filmes do TMDB\n"
			]
		},
		{
			"cell_type": "code",
			"execution_count": 10,
			"metadata": {},
			"outputs": [],
			"source": [
				"\n",
				"# Aplicar substituição nos títulos\n",
				"df_series_TMDB = df_series_TMDB.withColumn('name_replaced', regexp_replace(col('name'), r\"[^a-zA-Z0-9\\s]\", \"\"))\n",
				"\n",
				"# Realizar a filtragem dos títulos\n",
				"df_series_TMDB_trusted = df_series_TMDB.join(df_movies_TMDB_titulos_datas,\n",
				"    expr(\n",
				"        \"(size(split(name_replaced, ' ')) = 1 AND \" +\n",
				"        \"size(filter(split(name_replaced, ' '), x -> length(x) > 4 AND instr(title_replaced, x) > 0)) >= 1) OR \" +\n",
				"        \"(size(split(name_replaced, ' ')) = 2 AND \" +\n",
				"        \"size(filter(split(name_replaced, ' '), x -> length(x) >= 1 AND instr(title_replaced, x) > 0)) >= 2) OR \" +\n",
				"        \"(size(split(name_replaced, ' ')) >= 3 AND \" +\n",
				"        \"size(filter(split(name_replaced, ' '), x -> length(x) > 3 AND instr(title_replaced, x) > 0)) >= 2)\"\n",
				"    ) &\n",
				"    (col('name_replaced').isNotNull()) &\n",
				"    (col('name_replaced') != '') &\n",
				"    (col('title_replaced').isNotNull()) &\n",
				"    (col('title_replaced') != ''),\n",
				"    'inner')\n",
				"\n",
				"# Retira colunas irrelevantes\n",
				"df_series_TMDB_trusted = df_series_TMDB_trusted.drop('titulo','backdrop_path','poster_path')\n",
				"#df_series_TMDB_trusted = df_series_TMDB_trusted.drop('title_replaced','releaseDate')\n",
				"\n",
				"# Trata os valores \"NA\" nas colunas\n",
				"df_series_TMDB_trusted = df_series_TMDB_trusted.withColumn(\"first_air_date\", when(col(\"first_air_date\") == \"\", None).otherwise(col(\"first_air_date\")))\n",
				"df_series_TMDB_trusted = df_series_TMDB_trusted.withColumn(\"genre_ids\", when(size(col(\"genre_ids\")) == 0, None).otherwise(col(\"genre_ids\")))\n",
				"df_series_TMDB_trusted = df_series_TMDB_trusted.withColumn(\"overview\", when(col(\"overview\") == \"\", None).otherwise(col(\"overview\")))\n",
				"df_series_TMDB_trusted = df_series_TMDB_trusted.withColumn(\"popularity\", when(col(\"popularity\") == \"\", None).otherwise(col(\"popularity\")))\n",
				"df_series_TMDB_trusted = df_series_TMDB_trusted.withColumn(\"vote_average\", when(col(\"vote_average\") == \"\", None).otherwise(col(\"vote_average\")))\n",
				"df_series_TMDB_trusted = df_series_TMDB_trusted.withColumn(\"vote_count\", when(col(\"vote_count\") == \"\", None).otherwise(col(\"vote_count\")))\n",
				"\n",
				"# Elimina possiveis Redundâncias\n",
				"df_series_TMDB_trusted = df_series_TMDB_trusted.distinct()"
			]
		},
		{
			"cell_type": "code",
			"execution_count": 11,
			"metadata": {},
			"outputs": [
				{
					"name": "stderr",
					"output_type": "stream",
					"text": [
						"                                                                                \r"
					]
				},
				{
					"name": "stdout",
					"output_type": "stream",
					"text": [
						"+--------------+--------------------+------+--------------------+--------------+-----------------+----------------------------------+--------------------+----------+------------+----------+--------------------+--------------------+-----------+\n",
						"|first_air_date|           genre_ids|    id|                name|origin_country|original_language|                     original_name|            overview|popularity|vote_average|vote_count|       name_replaced|      title_replaced|releaseDate|\n",
						"+--------------+--------------------+------+--------------------+--------------+-----------------+----------------------------------+--------------------+----------+------------+----------+--------------------+--------------------+-----------+\n",
						"|    2009-06-24|         [16, 10759]| 61389|Saint Seiya: The ...|          [JP]|               ja|         聖闘士星矢 THE LOST CA...|An orphan known a...|    47.146|         8.2|       529|Saint Seiya The L...|Os Cavaleiros do ...|       2023|\n",
						"|    2018-01-16|          [18, 9648]| 76409|           Kakegurui|          [JP]|               ja|                        賭ケグルイ|Children from inf...|    19.856|         7.9|       161|           Kakegurui|Kakegurui 2 A Rol...|       2021|\n",
						"|    2018-01-16|          [18, 9648]| 76409|           Kakegurui|          [JP]|               ja|                        賭ケグルイ|Children from inf...|    19.856|         7.9|       161|           Kakegurui|           Kakegurui|       2019|\n",
						"|    2012-04-01|  [10765, 16, 10759]| 44317|   Saint Seiya Omega|          [JP]|               ja|                       聖闘士星矢Ω|A spin-off based ...|    56.704|         7.9|       169|   Saint Seiya Omega|Os Cavaleiros do ...|       2023|\n",
						"|    2016-09-16|      [80, 18, 9648]| 78004|Death Note: New G...|          [JP]|               ja|         デスノート NEW GENERATION|The miniseries fo...|    12.168|         8.0|         5|Death Note New Ge...|Death Note O ltim...|       2006|\n",
						"|    2021-04-07|[16, 35, 10759, 1...|114198|Full Dive: This U...|          [JP]|               ja|究極進化したフルダイブRPGが現実...|In an unexpected ...|    21.631|         7.9|        87|Full Dive This Ul...|Fullmetal Alchemi...|       2022|\n",
						"|    2008-08-08|            [16, 35]| 43066|  Detroit Metal City|          [JP]|               ja|        デトロイト・メタル・シティ|Dominating the wo...|     9.382|         7.7|        70|  Detroit Metal City|  Detroit Metal City|       2008|\n",
						"|    2003-10-04|  [10759, 16, 10765]| 37863| Fullmetal Alchemist|          [JP]|               ja|                      鋼の錬金術師|Two young brother...|    65.958|         8.2|       707| Fullmetal Alchemist|Fullmetal Alchemi...|       2022|\n",
						"|    2017-07-01|      [16, 18, 9648]| 72305|           Kakegurui|          [JP]|               ja|                        賭ケグルイ|Hyakkaou Private ...|     41.56|         8.2|      1388|           Kakegurui|           Kakegurui|       2019|\n",
						"|    2006-10-04|   [16, 9648, 10765]| 13916|          Death Note|          [JP]|               ja|                        DEATH NOTE|Light Yagami is a...|    64.728|         8.6|      3397|          Death Note|Death Note O Prim...|       2006|\n",
						"+--------------+--------------------+------+--------------------+--------------+-----------------+----------------------------------+--------------------+----------+------------+----------+--------------------+--------------------+-----------+\n",
						"only showing top 10 rows\n",
						"\n",
						"Número de linhas antes Series TMDB:  10000\n"
					]
				},
				{
					"name": "stderr",
					"output_type": "stream",
					"text": [
						"                                                                                \r"
					]
				},
				{
					"name": "stdout",
					"output_type": "stream",
					"text": [
						"Número de linhas no resultado:  62\n"
					]
				},
				{
					"name": "stderr",
					"output_type": "stream",
					"text": [
						"[Stage 59:=============================>                            (1 + 1) / 2]\r"
					]
				},
				{
					"name": "stdout",
					"output_type": "stream",
					"text": [
						"Número de Filmes relacionados no resultado2:  25\n"
					]
				},
				{
					"name": "stderr",
					"output_type": "stream",
					"text": [
						"                                                                                \r"
					]
				}
			],
			"source": [
				"df_series_TMDB_trusted.show(10)\n",
				"print(\"Número de linhas antes Series TMDB: \", df_series_TMDB.count())\n",
				"print(\"Número de linhas no resultado: \", df_series_TMDB_trusted.count())\n",
				"count = df_series_TMDB_trusted.select('title_replaced').distinct().count()\n",
				"print(\"Número de Filmes relacionados no resultado2: \", count)"
			]
		},
		{
			"attachments": {},
			"cell_type": "markdown",
			"metadata": {},
			"source": [
				"## 5. \n",
				"Filtro as Series do BD Local layer1 que foram filtradas no passo 3\n",
				"\n",
				"com a dos Series do TMDB Trusted que foram filtradas no passo 4"
			]
		},
		{
			"cell_type": "code",
			"execution_count": 12,
			"metadata": {},
			"outputs": [],
			"source": [
				"# Converter a coluna 'title' do DataFrame JSON para um array de palavras e extrair o ano de lançamento\n",
				"df_series_TMDB_titulos_datas = df_series_TMDB_trusted.select(regexp_replace(col('name'), r\"[^a-zA-Z0-9\\s]\", \"\").alias('title_replaced'),\n",
				"    substring(col('first_air_date'), 1, 4).alias('releaseDate'))\n",
				"\n",
				"# Drop na coluna para evitar ambiguidade (somente para versao local)\n",
				"df_series_IMDB_layer1 = df_series_IMDB_layer1.drop('title_replaced', 'releaseDate')\n",
				"\n",
				"# Realizar a filtragem dos títulos e anos de lançamento\n",
				"df_series_IMDB_trusted = df_series_IMDB_layer1.join(df_series_TMDB_titulos_datas,\n",
				"    expr(\n",
				"        \"(size(split(tituloPrincipal_replaced, ' ')) = 1 AND \" +\n",
				"        \"size(filter(split(tituloPrincipal_replaced, ' '), x -> length(x) > 3 AND instr(title_replaced, x) > 0)) >= 1) OR \" +\n",
				"        \"(size(split(tituloPrincipal_replaced, ' ')) = 2 AND \" +\n",
				"        \"size(filter(split(tituloPrincipal_replaced, ' '), x -> length(x) >= 1 AND instr(title_replaced, x) > 0)) >= 2) OR \" +\n",
				"        \"(size(split(tituloPrincipal_replaced, ' ')) >= 3 AND \" +\n",
				"        \"size(filter(split(tituloPrincipal_replaced, ' '), x -> length(x) > 3 AND instr(title_replaced, x) > 0)) >= 2)\"\n",
				"    ) &\n",
				"    (df_series_IMDB['anoLancamento'] == df_series_TMDB_titulos_datas['releaseDate']) &\n",
				"    (col('tituloPrincipal_replaced').isNotNull()) &\n",
				"    (col('tituloPrincipal_replaced') != '') &\n",
				"    (col('title_replaced').isNotNull()) &\n",
				"    (col('title_replaced') != ''),\n",
				"    'inner')\n",
				"\n",
				"# Retira colunas irrelevantes (somete para versão AWS)\n",
				"#df_series_IMDB_layer1 = df_series_IMDB_layer1.drop('title_replaced', 'releaseDate')\n",
				"\n",
				"# Trata os valores \"NA\" nas colunas\n",
				"df_series_IMDB_trusted = df_series_IMDB_trusted.withColumn(\"anoTermino\", when(col(\"anoTermino\") == \"\\\\N\", None).otherwise(col(\"anoTermino\")))\n",
				"df_series_IMDB_trusted = df_series_IMDB_trusted.withColumn(\"tempoMinutos\", when(col(\"tempoMinutos\") == \"\\\\N\", None).otherwise(col(\"tempoMinutos\")))\n",
				"df_series_IMDB_trusted = df_series_IMDB_trusted.withColumn(\"genero\", when(col(\"genero\") == \"\\\\N\", None).otherwise(col(\"genero\")))\n",
				"df_series_IMDB_trusted = df_series_IMDB_trusted.withColumn(\"notaMedia\", when(col(\"notaMedia\") == \"\\\\N\", None).otherwise(col(\"notaMedia\")))\n",
				"df_series_IMDB_trusted = df_series_IMDB_trusted.withColumn(\"numeroVotos\", when(col(\"numeroVotos\") == \"\\\\N\", None).otherwise(col(\"numeroVotos\")))\n",
				"df_series_IMDB_trusted = df_series_IMDB_trusted.withColumn(\"anoNascimento\", when(col(\"anoNascimento\") == \"\\\\N\", None).otherwise(col(\"anoNascimento\")))\n",
				"df_series_IMDB_trusted = df_series_IMDB_trusted.withColumn(\"anoNascimento\", when(col(\"anoNascimento\") == \"\\\\N\", None).otherwise(col(\"anoNascimento\")))\n",
				"df_series_IMDB_trusted = df_series_IMDB_trusted.withColumn(\"anoFalecimento\", when(col(\"anoFalecimento\") == \"\\\\N\", None).otherwise(col(\"anoFalecimento\")))\n",
				"\n",
				"\n",
				"# Remover linhas duplicadas no resultado\n",
				"df_series_IMDB_trusted = df_series_IMDB_trusted.distinct()\n"
			]
		},
		{
			"cell_type": "code",
			"execution_count": 13,
			"metadata": {},
			"outputs": [
				{
					"name": "stderr",
					"output_type": "stream",
					"text": [
						"[Stage 68:==============>                                           (2 + 6) / 8]\r"
					]
				}
			],
			"source": [
				"df_series_IMDB_trusted.show(10)\n",
				"print(\"Número de linhas antes IMDB Layer 1: \", df_series_IMDB_layer1.count())\n",
				"print(\"Número de linhas no resultado: \", df_series_IMDB_trusted.count())\n",
				"count = df_series_IMDB_trusted.select('title_replaced').distinct().count()\n",
				"print(\"Número de Series Relacionas no resultado: \", count)"
			]
		},
		{
			"attachments": {},
			"cell_type": "markdown",
			"metadata": {},
			"source": [
				"## 6.\n",
				"Elimina algumas colunas não relevantes do df_movies_TMDB "
			]
		},
		{
			"cell_type": "code",
			"execution_count": null,
			"metadata": {
				"trusted": true
			},
			"outputs": [
				{
					"name": "stdout",
					"output_type": "stream",
					"text": [
						"+-----+--------------------+-------------+------+-----------------+--------------------------------+--------------------+----------+--------------------+------------+--------------------+-----+------------+----------+\n",
						"|adult|       backdrop_path|    genre_ids|    id|original_language|                  original_title|            overview|popularity|         poster_path|release_date|               title|video|vote_average|vote_count|\n",
						"+-----+--------------------+-------------+------+-----------------+--------------------------------+--------------------+----------+--------------------+------------+--------------------+-----+------------+----------+\n",
						"|false|/kgATFkG4SDyengNM...| [14, 28, 12]|455476|               en|            Knights of the Zo...|Quando um órfão d...|   292.303|/omPLRVEydDJdkXoB...|  2023-04-27|Os Cavaleiros do ...|false|         6.3|        49|\n",
						"|false|/5hoS3nEkGGXUfmnu...| [28, 12, 14]|960704|               ja|  鋼の錬金術師 完結編 最後の錬成|Acompanhe a últim...|    82.899|/uMzOYHGiHEfknowT...|  2022-06-24|Fullmetal Alchemi...|false|         6.3|       154|\n",
						"|false|/yaze6df9AMIA9oeD...| [14, 28, 12]|960700|               ja|鋼の錬金術師 完結編 復讐者スカー|Os s irmãos Elric...|    53.831|/qsgF3IyWmNOnYqNt...|  2022-05-20|Fullmetal Alchemi...|false|         6.8|       176|\n",
						"|false|/8RKBHHRqOMOLh5qW...|[28, 878, 12]|399579|               en|             Alita: Battle Angel|Abandonada em um ...|    45.745|/xUOP8nSOcwymKeOS...|  2019-01-31|Alita: Anjo de Co...|false|         7.2|      8212|\n",
						"|false|/nDP33LmQwNsnPv29...| [28, 12, 14]|447404|               en|            Pokémon Detective...|O desaparecimento...|    49.554|/p72utWsmz5ZAmvVQ...|  2019-05-10|Pokémon: Detetive...|false|         7.0|      6120|\n",
						"+-----+--------------------+-------------+------+-----------------+--------------------------------+--------------------+----------+--------------------+------------+--------------------+-----+------------+----------+\n",
						"only showing top 5 rows\n",
						"\n",
						"+-------------+------+-----------------+--------------------------------+--------------------+----------+------------+--------------------+------------+----------+\n",
						"|    genre_ids|    id|original_language|                  original_title|            overview|popularity|release_date|               title|vote_average|vote_count|\n",
						"+-------------+------+-----------------+--------------------------------+--------------------+----------+------------+--------------------+------------+----------+\n",
						"| [14, 28, 12]|455476|               en|            Knights of the Zo...|Quando um órfão d...|   292.303|  2023-04-27|Os Cavaleiros do ...|         6.3|        49|\n",
						"| [28, 12, 14]|960704|               ja|  鋼の錬金術師 完結編 最後の錬成|Acompanhe a últim...|    82.899|  2022-06-24|Fullmetal Alchemi...|         6.3|       154|\n",
						"| [14, 28, 12]|960700|               ja|鋼の錬金術師 完結編 復讐者スカー|Os s irmãos Elric...|    53.831|  2022-05-20|Fullmetal Alchemi...|         6.8|       176|\n",
						"|[28, 878, 12]|399579|               en|             Alita: Battle Angel|Abandonada em um ...|    45.745|  2019-01-31|Alita: Anjo de Co...|         7.2|      8212|\n",
						"| [28, 12, 14]|447404|               en|            Pokémon Detective...|O desaparecimento...|    49.554|  2019-05-10|Pokémon: Detetive...|         7.0|      6120|\n",
						"+-------------+------+-----------------+--------------------------------+--------------------+----------+------------+--------------------+------------+----------+\n",
						"only showing top 5 rows\n",
						"\n"
					]
				}
			],
			"source": [
				"# remove os colunas não relevantes\n",
				"\n",
				"\n",
				"df_movies_TMDB_trusted = df_movies_TMDB.drop('adult','backdrop_path','poster_path','video')\n",
				"df_movies_TMDB_trusted = df_movies_TMDB_trusted.withColumn(\"popularity\", when(col(\"popularity\") == \"\", None).otherwise(col(\"popularity\")))\n",
				"df_movies_TMDB_trusted = df_movies_TMDB_trusted.withColumn(\"vote_average\", when(col(\"vote_average\") == \"\", None).otherwise(col(\"vote_average\")))\n",
				"df_movies_TMDB_trusted = df_movies_TMDB_trusted.withColumn(\"vote_count\", when(col(\"vote_count\") == \"\", None).otherwise(col(\"vote_count\")))\n",
				"df_movies_TMDB_trusted = df_movies_TMDB_trusted.withColumn(\"popularity\", col(\"popularity\").cast(FloatType()))\n",
				"df_movies_TMDB_trusted = df_movies_TMDB_trusted.withColumn(\"vote_average\", col(\"vote_average\").cast(FloatType()))\n",
				"df_movies_TMDB_trusted = df_movies_TMDB_trusted.withColumn(\"vote_count\", col(\"vote_count\").cast(IntegerType()))\n",
				"df_series_TMDB_trusted = df_series_TMDB_trusted.withColumn(\"popularity\", col(\"popularity\").cast(FloatType()))\n",
				"df_series_TMDB_trusted = df_series_TMDB_trusted.withColumn(\"vote_average\", col(\"vote_average\").cast(FloatType()))\n",
				"df_series_TMDB_trusted = df_series_TMDB_trusted.withColumn(\"vote_count\", col(\"vote_count\").cast(IntegerType()))\n",
				"\n",
				"df_movies_TMDB.show(5)\n",
				"df_movies_TMDB_trusted\n",
				"df_movies_TMDB_trusted.show(5)\n",
				"df_movies_TMDB_trusted = df_series_IMDB_trusted.distinct()\n",
				"#print(\"Número de linhas antes tMDB: \", df_movies_TMDB_trusted.count())"
			]
		},
		{
			"cell_type": "markdown",
			"metadata": {
				"editable": true,
				"trusted": true
			},
			"source": [
				"## 7.\n",
				"escreve os dados na camada Trusted no S3 no formato parquet\n"
			]
		},
		{
			"cell_type": "code",
			"execution_count": null,
			"metadata": {
				"editable": true,
				"trusted": true
			},
			"outputs": [
				{
					"data": {
						"text/plain": [
							"'\\n\\n# Obtém a data atual para criar os diretórios correspondentes\\ncurrent_date = datetime.now()\\nano = current_date.strftime(\"%Y\")\\nmes = current_date.strftime(\"%m\")\\ndia = current_date.strftime(\"%d\")\\n\\n# Define os caminhos de destino no S3 para os DataFrames no formato Parquet\\npath_trt_local_movies = \"s3://data-lake-do-fabricio/TRT/Local/Filmes/{ano}/{mes}/{dia}/\"\\npath_trt_local_series = \"s3://data-lake-do-fabricio/TRT/Local/Series/{ano}/{mes}/{dia}/\"\\npath_trt_tmdb_movies = \"s3://data-lake-do-fabricio/TRT/TMDB/Filmes/{ano}/{mes}/{dia}/\"\\npath_trt_tmdb_series = \"s3://data-lake-do-fabricio/TRT/TMDB/Series/{ano}/{mes}/{dia}/\"\\n\\n# Salva os DataFrames no formato Parquet no S3\\ndf_movies_IMDB_trusted.write.parquet(path_trt_local_movies.format(ano=ano, mes=mes, dia=dia))\\ndf_series_IMDB_trusted.write.parquet(path_trt_local_series.format(ano=ano, mes=mes, dia=dia))\\ndf_movies_TMDB_trusted.write.parquet(path_trt_tmdb_movies.format(ano=ano, mes=mes, dia=dia))\\ndf_series_TMDB_trusted.write.parquet(path_trt_tmdb_series.format(ano=ano, mes=mes, dia=dia))\\n\\n'"
						]
					},
					"execution_count": 14,
					"metadata": {},
					"output_type": "execute_result"
				}
			],
			"source": [
				"\"\"\"\n",
				"\n",
				"# Obtém a data atual para criar os diretórios correspondentes\n",
				"current_date = datetime.now()\n",
				"ano = current_date.strftime(\"%Y\")\n",
				"mes = current_date.strftime(\"%m\")\n",
				"dia = current_date.strftime(\"%d\")\n",
				"\n",
				"# Define os caminhos de destino no S3 para os DataFrames no formato Parquet\n",
				"path_trt_local_movies = \"s3://data-lake-do-fabricio/TRT/Local/Filmes/{ano}/{mes}/{dia}/\"\n",
				"path_trt_local_series = \"s3://data-lake-do-fabricio/TRT/Local/Series/{ano}/{mes}/{dia}/\"\n",
				"path_trt_tmdb_movies = \"s3://data-lake-do-fabricio/TRT/TMDB/Filmes/{ano}/{mes}/{dia}/\"\n",
				"path_trt_tmdb_series = \"s3://data-lake-do-fabricio/TRT/TMDB/Series/{ano}/{mes}/{dia}/\"\n",
				"\n",
				"# Salva os DataFrames no formato Parquet no S3\n",
				"df_movies_IMDB_trusted.write.parquet(path_trt_local_movies.format(ano=ano, mes=mes, dia=dia))\n",
				"df_series_IMDB_trusted.write.parquet(path_trt_local_series.format(ano=ano, mes=mes, dia=dia))\n",
				"df_movies_TMDB_trusted.write.parquet(path_trt_tmdb_movies.format(ano=ano, mes=mes, dia=dia))\n",
				"df_series_TMDB_trusted.write.parquet(path_trt_tmdb_series.format(ano=ano, mes=mes, dia=dia))\n",
				"\n",
				"\"\"\""
			]
		}
	],
	"metadata": {
		"kernelspec": {
			"display_name": "Python 3",
			"language": "python",
			"name": "python3"
		},
		"language_info": {
			"codemirror_mode": {
				"name": "ipython",
				"version": 3
			},
			"file_extension": ".py",
			"mimetype": "text/x-python",
			"name": "python",
			"nbconvert_exporter": "python",
			"pygments_lexer": "ipython3",
			"version": "3.9.1"
		}
	},
	"nbformat": 4,
	"nbformat_minor": 4
}
