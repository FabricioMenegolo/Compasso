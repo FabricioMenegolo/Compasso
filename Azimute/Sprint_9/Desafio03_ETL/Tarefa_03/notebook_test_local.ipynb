{
  "cells": [
    {
      "cell_type": "code",
      "execution_count": null,
      "metadata": {
        "colab": {
          "base_uri": "https://localhost:8080/"
        },
        "id": "-hYDKJWpFHOo",
        "outputId": "bfa93781-11a5-45a0-90ad-1dd04ecf8d2a"
      },
      "outputs": [],
      "source": [
        "!pip install pyspark"
      ]
    },
    {
      "cell_type": "markdown",
      "metadata": {
        "id": "0l7Y1SGhEY3U"
      },
      "source": [
        "# Perguntas dessa tarefa"
      ]
    },
    {
      "cell_type": "markdown",
      "metadata": {
        "id": "m7PHoIrIESIW"
      },
      "source": [
        "## 1.\n",
        "\n",
        "- Inicialmente iremos preparar o ambiente, definindo o diretório onde nosso código será desenvolvido. Para este diretório iremos copiar o arquivo nomes_aleatorios.txt.\n",
        "\n",
        "- Após, em nosso script Python, devemos importar as bibliotecas necessárias:\n",
        "\n",
        "from pyspark.sql import SparkSession\n",
        "\n",
        "from pyspark import SparkContext, SQLContext\n",
        "\n",
        "- Aplicando as bibliotecas do Spark, podemos definir a Spark Session e sobre ela definir o Context para habilitar o módulo SQL\n",
        "\n",
        "spark = SparkSession \\\n",
        "\n",
        "                .builder \\\n",
        "\n",
        "                .master(\"local[*]\")\\\n",
        "\n",
        "                .appName(\"Exercicio Intro\") \\\n",
        "\n",
        "                .getOrCreate()\n",
        "\n",
        "- Nesta etapa, é a leitura dos arquivos de filmes e series CSV e JSON"
      ]
    },
    {
      "cell_type": "code",
      "execution_count": 66,
      "metadata": {
        "colab": {
          "base_uri": "https://localhost:8080/"
        },
        "id": "FlEEmzN0ESId",
        "outputId": "a5dd3f92-e17c-44ea-b0d9-75a44722091b"
      },
      "outputs": [
        {
          "name": "stdout",
          "output_type": "stream",
          "text": [
            "+---------+--------------+--------------+-------------+------------+-------+---------+-----------+-------------+--------------------+---------------+-------------+--------------+---------+---------------------+\n",
            "|       id|tituloPincipal|tituloOriginal|anoLancamento|tempoMinutos| genero|notaMedia|numeroVotos|generoArtista|          personagem|    nomeArtista|anoNascimento|anoFalecimento|profissao|titulosMaisConhecidos|\n",
            "+---------+--------------+--------------+-------------+------------+-------+---------+-----------+-------------+--------------------+---------------+-------------+--------------+---------+---------------------+\n",
            "|tt0000009|    Miss Jerry|    Miss Jerry|         1894|          45|Romance|      5.3|        200|      actress|Miss Geraldine Ho...|Blanche Bayliss|         1878|          1951|  actress|            tt0000009|\n",
            "+---------+--------------+--------------+-------------+------------+-------+---------+-----------+-------------+--------------------+---------------+-------------+--------------+---------+---------------------+\n",
            "only showing top 1 row\n",
            "\n",
            "+-----+--------------------+------------+------+-----------------+--------------------+--------------------+----------+--------------------+------------+--------------------+-----+------------+----------+\n",
            "|adult|       backdrop_path|   genre_ids|    id|original_language|      original_title|            overview|popularity|         poster_path|release_date|               title|video|vote_average|vote_count|\n",
            "+-----+--------------------+------------+------+-----------------+--------------------+--------------------+----------+--------------------+------------+--------------------+-----+------------+----------+\n",
            "|false|/993utJnne28M1WNC...|[14, 28, 12]|455476|               en|Knights of the Zo...|When a headstrong...|   304.591|/1nbFEdIFprRNSWcC...|  2023-04-27|Knights of the Zo...|false|         6.3|        49|\n",
            "+-----+--------------------+------------+------+-----------------+--------------------+--------------------+----------+--------------------+------------+--------------------+-----+------------+----------+\n",
            "only showing top 1 row\n",
            "\n",
            "+---------+--------------+--------------+-------------+----------+------------+------+---------+-----------+-------------+----------------+------------+-------------+--------------+------------+---------------------+\n",
            "|       id|tituloPincipal|tituloOriginal|anoLancamento|anoTermino|tempoMinutos|genero|notaMedia|numeroVotos|generoArtista|      personagem| nomeArtista|anoNascimento|anoFalecimento|   profissao|titulosMaisConhecidos|\n",
            "+---------+--------------+--------------+-------------+----------+------------+------+---------+-----------+-------------+----------------+------------+-------------+--------------+------------+---------------------+\n",
            "|tt0025509|Les Misérables|Les misérables|         1934|      1934|         279| Drama|      8.4|       1820|        actor|Marius Pontmercy|Jean Servais|         1910|          1976|actor,writer| tt0045034,tt00480...|\n",
            "+---------+--------------+--------------+-------------+----------+------------+------+---------+-----------+-------------+----------------+------------+-------------+--------------+------------+---------------------+\n",
            "only showing top 1 row\n",
            "\n",
            "+--------------------+--------------+------------------+------+--------------------+--------------+-----------------+-------------------------------------+--------------------+----------+--------------------+------------+----------+\n",
            "|       backdrop_path|first_air_date|         genre_ids|    id|                name|origin_country|original_language|                        original_name|            overview|popularity|         poster_path|vote_average|vote_count|\n",
            "+--------------------+--------------+------------------+------+--------------------+--------------+-----------------+-------------------------------------+--------------------+----------+--------------------+------------+----------+\n",
            "|/vGcu194Jk4I06u69...|    2023-04-07|[16, 10765, 10759]|208493|I Got a Cheat Ski...|          [JP]|               ja|異世界でチート能力を手にした俺は、...|A door to another...|   432.772|/2kTYmmOU8SsDxSij...|         6.9|        11|\n",
            "+--------------------+--------------+------------------+------+--------------------+--------------+-----------------+-------------------------------------+--------------------+----------+--------------------+------------+----------+\n",
            "only showing top 1 row\n",
            "\n"
          ]
        }
      ],
      "source": [
        "from pyspark.sql import SparkSession\n",
        "from pyspark import SparkContext, SQLContext\n",
        "\n",
        "spark = SparkSession \\\n",
        "    .builder \\\n",
        "    .master(\"local[*]\")\\\n",
        "    .appName(\"ELT TRUSTED\") \\\n",
        "    .getOrCreate()\n",
        "\n",
        "path1 = f\"/mnt/wsl/PHYSICALDRIVE2/Projects/Compasso/Azimute/Sprint_7/Desafio01_ETL/assets/\"\n",
        "df_movies_IMDB = spark.read.option(\"delimiter\", \"|\").csv(path1 + 'movies.csv', header=True)\n",
        "df_series_IMDB = spark.read.option(\"delimiter\", \"|\").csv(path1 + 'series.csv', header=True)\n",
        "\n",
        "path2 = f\"/mnt/wsl/PHYSICALDRIVE2/Projects/Compasso/Azimute/Sprint_8/Desafio02_ETL/Tarefa_02/assets/\"\n",
        "df_movies_TMDB = spark.read.json(path2 + 'movies.json') \n",
        "df_series_TMDB = spark.read.json(path2 + 'series.json')\n",
        "\n",
        "df_movies_IMDB.show(1)\n",
        "df_movies_TMDB.show(1)\n",
        "\n",
        "df_series_IMDB.show(1)\n",
        "df_series_TMDB.show(1)"
      ]
    },
    {
      "attachments": {},
      "cell_type": "markdown",
      "metadata": {
        "id": "kUzxXu7dESIe"
      },
      "source": [
        "## 2. \n",
        " Filtro os Filmes do BD Local com lista de filmes do TMDB"
      ]
    },
    {
      "cell_type": "code",
      "execution_count": 58,
      "metadata": {
        "colab": {
          "base_uri": "https://localhost:8080/"
        },
        "id": "21ipYuCfc5Co",
        "outputId": "afbef4d9-ae62-4a20-9050-57bb04a30c28"
      },
      "outputs": [
        {
          "name": "stderr",
          "output_type": "stream",
          "text": [
            "                                                                                \r"
          ]
        },
        {
          "name": "stdout",
          "output_type": "stream",
          "text": [
            "+---------+--------------------+--------------------+-------------+------------+--------------------+---------+-----------+-------------+----------------+--------------------+-------------+--------------+--------------------+---------------------+\n",
            "|       id|     tituloPrincipal|      tituloOriginal|anoLancamento|tempoMinutos|              genero|notaMedia|numeroVotos|generoArtista|      personagem|         nomeArtista|anoNascimento|anoFalecimento|           profissao|titulosMaisConhecidos|\n",
            "+---------+--------------------+--------------------+-------------+------------+--------------------+---------+-----------+-------------+----------------+--------------------+-------------+--------------+--------------------+---------------------+\n",
            "|tt0113074|Fist of the North...|Fist of the North...|         1995|         103|Action,Fantasy,Sc...|      3.9|       3417|        actor|        Kenshirô|        Gary Daniels|         1963|          null|actor,producer,st...| tt6156656,tt13202...|\n",
            "|tt0113074|Fist of the North...|Fist of the North...|         1995|         103|Action,Fantasy,Sc...|      3.9|       3417|        actor|          Ryuken|    Malcolm McDowell|         1943|          null|actor,producer,so...| tt0111280,tt00800...|\n",
            "|tt0113074|Fist of the North...|Fist of the North...|         1995|         103|Action,Fantasy,Sc...|      3.9|       3417|        actor|       Lord Shin|     Costas Mandylor|         1965|          null|               actor| tt1233227,tt01148...|\n",
            "|tt0113074|Fist of the North...|Fist of the North...|         1995|         103|Action,Fantasy,Sc...|      3.9|       3417|      actress|         Charlie|Downtown Julie Brown|         1963|          null|actress,producer,...| tt0106057,tt01130...|\n",
            "|tt0405821|            Casshern|            Casshern|         2004|         142|       Action,Sci-Fi|      6.0|      13532|      actress|    Midori Azuma|      Kanako Higuchi|         1958|          null|             actress| tt0405821,tt02838...|\n",
            "|tt0296042|     Ichi the Killer|         Koroshiya 1|         2001|         129|  Action,Crime,Drama|      7.0|      56867|        actor|            Ichi|           Nao Ômori|         1972|          null|               actor| tt1798188,tt03795...|\n",
            "|tt0296042|     Ichi the Killer|         Koroshiya 1|         2001|         129|  Action,Crime,Drama|      7.0|      56867|      actress|           Karen|          Paulyn Sun|         1974|          null|             actress| tt0296042,tt01565...|\n",
            "|tt0296042|     Ichi the Killer|         Koroshiya 1|         2001|         129|  Action,Crime,Drama|      7.0|      56867|        actor|        Kakihara|      Tadanobu Asano|         1973|          null|actor,director,co...| tt3501632,tt14401...|\n",
            "|tt0405821|            Casshern|            Casshern|         2004|         142|       Action,Sci-Fi|      6.0|      13532|        actor|Dr. Kotaro Azuma|         Akira Terao|         1947|          null|      actor,producer| tt0089881,tt01819...|\n",
            "|tt0296042|     Ichi the Killer|         Koroshiya 1|         2001|         129|  Action,Crime,Drama|      7.0|      56867|        actor|           Jijii|   Shin'ya Tsukamoto|         1960|          null|actor,director,wr...| tt0114690,tt00962...|\n",
            "+---------+--------------------+--------------------+-------------+------------+--------------------+---------+-----------+-------------+----------------+--------------------+-------------+--------------+--------------------+---------------------+\n",
            "only showing top 10 rows\n",
            "\n"
          ]
        },
        {
          "name": "stderr",
          "output_type": "stream",
          "text": [
            "                                                                                \r"
          ]
        },
        {
          "name": "stdout",
          "output_type": "stream",
          "text": [
            "Número de linhas antes IMDB:  1045161\n"
          ]
        },
        {
          "name": "stderr",
          "output_type": "stream",
          "text": [
            "                                                                                \r"
          ]
        },
        {
          "name": "stdout",
          "output_type": "stream",
          "text": [
            "Número de linhas depois IMDB:  166\n",
            "Número de linhas TMDB:  49\n"
          ]
        }
      ],
      "source": [
        "from pyspark.sql.functions import col, substring, when, size\n",
        "\n",
        "# Converter a coluna 'title' do DataFrame JSON para um array de palavras e extrair o ano de lançamento\n",
        "df_filmes_titulos_datas = df_movies_TMDB.select(col('title'), substring(col('release_date'), 1, 4).alias('releaseDate'))\n",
        "\n",
        "# Definir o tamanho mínimo das palavras em comum\n",
        "tamanho_minimo = 4\n",
        "\n",
        "# Realizar a filtragem dos títulos\n",
        "df_IMDB_filtrado_filmes = df_movies_IMDB.join(df_filmes_titulos_datas,\n",
        "                                   (df_movies_IMDB['tituloPincipal'].contains(df_filmes_titulos_datas['title'])) &\n",
        "                                   (df_movies_IMDB['anoLancamento'] == df_filmes_titulos_datas['releaseDate']),\n",
        "                                   'inner')\n",
        "\n",
        "# Remover as colunas 'title' e 'releaseDate' do DataFrame\n",
        "df_IMDB_filtrado_filmes = df_IMDB_filtrado_filmes.drop('title', 'releaseDate')\n",
        "\n",
        "# Renomear a coluna 'tituloPincipal' para 'tituloPrincipal' no DataFrame df_IMDB_filtrado_filmes\n",
        "df_IMDB_filtrado_filmes = df_IMDB_filtrado_filmes.withColumnRenamed(\"tituloPincipal\", \"tituloPrincipal\")\n",
        "\n",
        "df_IMDB_filtrado_filmes = df_IMDB_filtrado_filmes.distinct()\n",
        "\n",
        "# Trata os valores \"NA\" na coluna \"anoFalecimento\"\n",
        "df_IMDB_Filmes_resultado = df_IMDB_filtrado_filmes.withColumn(\"anoFalecimento\", when(col(\"anoFalecimento\") == \"\\\\N\", None).otherwise(col(\"anoFalecimento\")))\n",
        "\n",
        "# Exibir resultado\n",
        "df_IMDB_Filmes_resultado.show(10)\n",
        "print(\"Número de linhas antes IMDB: \", df_movies_IMDB.count())\n",
        "print(\"Número de linhas depois IMDB: \", df_IMDB_Filmes_resultado.count())\n",
        "print(\"Número de linhas TMDB: \", df_movies_TMDB.count())"
      ]
    },
    {
      "attachments": {},
      "cell_type": "markdown",
      "metadata": {},
      "source": [
        "## 3. \n",
        "Filtro as Series do BD Local com lista de series do TMDB"
      ]
    },
    {
      "cell_type": "code",
      "execution_count": 43,
      "metadata": {},
      "outputs": [
        {
          "name": "stderr",
          "output_type": "stream",
          "text": [
            "                                                                                \r"
          ]
        },
        {
          "name": "stdout",
          "output_type": "stream",
          "text": [
            "+---------+--------------------+--------------------+-------------+----------+------------+--------------------+---------+-----------+-------------+--------------------+--------------+-------------+--------------+--------------------+---------------------+\n",
            "|       id|     tituloPrincipal|      tituloOriginal|anoLancamento|anoTermino|tempoMinutos|              genero|notaMedia|numeroVotos|generoArtista|          personagem|   nomeArtista|anoNascimento|anoFalecimento|           profissao|titulosMaisConhecidos|\n",
            "+---------+--------------------+--------------------+-------------+----------+------------+--------------------+---------+-----------+-------------+--------------------+--------------+-------------+--------------+--------------------+---------------------+\n",
            "|tt0062582|         Mighty Jack|       Maitei Jyakku|         1968|      null|        null|       Action,Sci-Fi|      4.3|         34|        actor|Van Manuel Perez ...|  Fred Bossart|         null|          null|               actor| tt15101170,tt0184...|\n",
            "|tt0077013|    Future Boy Conan|  Mirai shônen Konan|         1978|      1978|          24|Adventure,Animati...|      8.8|       4437|        actor|   Opening Narration|    Masatô Ibu|         1949|          null|actor,writer,prod...| tt1477109,tt00929...|\n",
            "|tt0094459|  Family Double Dare|  Family Double Dare|         1988|      1992|          30|    Family,Game-Show|      7.3|        633|        actor|    Announcer (1992)|  Doc Holliday|         null|          null|               actor| tt2206120,tt02369...|\n",
            "|tt0103369|         Sailor Moon|Bishôjo senshi Sê...|         1992|      1997|          30|Action,Adventure,...|      7.7|       6559|      actress|Ami MizunoSailor ...|  Aya Hisakawa|         1968|          null|actress,music_dep...| tt7961060,tt32151...|\n",
            "|tt0115234|             Kodocha|    Kodomo no omocha|         1996|      1998|          22|Animation,Comedy,...|      7.5|        494|        actor|              Babbit|   Chris Cason|         1974|          null|actor,miscellaneo...| tt7961060,tt22639...|\n",
            "|tt0156214|         Kamen Rider|         Kamen Raidâ|         1971|      1973|          30|Action,Adventure,...|      7.7|        331|        actor|         Kazuya Taki|   Jirô Yabuki|         1949|          null|               actor| tt0156214,tt00809...|\n",
            "|tt0159184|Mobile Suit Gunda...|Kidô senshi Gunda...|         1986|      1987|          30|Action,Animation,...|      6.8|        606|      actress|         Leina Ashta|  Maya Okamoto|         1967|          null|  actress,soundtrack| tt0250921,tt80137...|\n",
            "|tt0182581|Gekisou Sentai Ca...|Gekisô sentai Kâr...|         1996|      1997|          25|Action,Adventure,...|      6.6|        174|      actress|Natsumi Shinohara...|Yuka Motohashi|         1978|          null|             actress| tt1788390,tt02023...|\n",
            "|tt0160424|Patlabor: The New...|Kidô keisatsu pat...|         1990|      1992|          25|Animation,Comedy,...|      7.6|        274|        actor|        Shigeo Shiba| Shigeru Chiba|         1954|          null|actor,sound_depar...| tt0113568,tt02284...|\n",
            "|tt0167720|          Seven Days|          Seven Days|         1998|      2001|          42| Action,Drama,Sci-Fi|      7.2|       3739|      actress|Dr. Olga Vukavitc...|  Justina Vail|         1963|          null|             actress| tt0116695,tt01061...|\n",
            "+---------+--------------------+--------------------+-------------+----------+------------+--------------------+---------+-----------+-------------+--------------------+--------------+-------------+--------------+--------------------+---------------------+\n",
            "only showing top 10 rows\n",
            "\n",
            "Número de linhas antes IMDB:  468783\n"
          ]
        },
        {
          "name": "stderr",
          "output_type": "stream",
          "text": [
            "                                                                                \r"
          ]
        },
        {
          "name": "stdout",
          "output_type": "stream",
          "text": [
            "Número de linhas IMDB:  22143\n",
            "Número de linhas TMDB:  10000\n"
          ]
        }
      ],
      "source": [
        "# Converter a coluna 'name' e a substring de 'first_air_date' do DataFrame JSON para o DataFrame do TMDB\n",
        "df_series_nomes_datas = df_series_TMDB.select(col('name'), substring(col('first_air_date'), 1, 4).alias('dataLancamento'))\n",
        "\n",
        "# Realizar a filtragem dos títulos e anos de lançamento\n",
        "df_IMDB_filtrado_series = df_series_IMDB.join(df_series_nomes_datas,\n",
        "                                         (df_series_IMDB['tituloPincipal'].contains(df_series_nomes_datas['name'])) &\n",
        "                                         (df_series_IMDB['anoLancamento'] == df_series_nomes_datas['dataLancamento']),\n",
        "                                         'inner')\n",
        "\n",
        "# Remover as colunas 'name' e 'dataLancamento' do DataFrame\n",
        "df_IMDB_filtrado_series = df_IMDB_filtrado_series.drop('name', 'dataLancamento')\n",
        "\n",
        "df_IMDB_filtrado_series = df_IMDB_filtrado_series.distinct()\n",
        "\n",
        "# Renomear a coluna 'tituloPincipal' para 'tituloPrincipal' no DataFrame df_IMDB_filtrado_filmes\n",
        "df_IMDB_filtrado_series = df_IMDB_filtrado_series.withColumnRenamed(\"tituloPincipal\", \"tituloPrincipal\")\n",
        "\n",
        "# Exibir resultado\n",
        "df_IMDB_filtrado_series.show(10)\n",
        "print(\"Número de linhas antes IMDB: \", df_series_IMDB.count())\n",
        "print(\"Número de linhas IMDB: \", df_IMDB_filtrado_series.count())\n",
        "print(\"Número de linhas TMDB: \", df_series_TMDB.count())"
      ]
    },
    {
      "attachments": {},
      "cell_type": "markdown",
      "metadata": {},
      "source": [
        "## 4. \n",
        "Filtro as Series do BD Local que foram filtradas no passo 3\n",
        "\n",
        "com a dos filmes do BD local que foram filtrados no passo 2"
      ]
    },
    {
      "cell_type": "code",
      "execution_count": 59,
      "metadata": {},
      "outputs": [
        {
          "name": "stderr",
          "output_type": "stream",
          "text": [
            "                                                                                \r"
          ]
        },
        {
          "name": "stdout",
          "output_type": "stream",
          "text": [
            "+---------+--------------------+--------------------+-------------+----------+------------+--------------------+---------+-----------+-------------+--------------------+------------------+-------------+--------------+--------------------+---------------------+\n",
            "|       id|     tituloPrincipal|      tituloOriginal|anoLancamento|anoTermino|tempoMinutos|              genero|notaMedia|numeroVotos|generoArtista|          personagem|       nomeArtista|anoNascimento|anoFalecimento|           profissao|titulosMaisConhecidos|\n",
            "+---------+--------------------+--------------------+-------------+----------+------------+--------------------+---------+-----------+-------------+--------------------+------------------+-------------+--------------+--------------------+---------------------+\n",
            "|tt1316554|        Black Butler|        Kuroshitsuji|         2008|      2011|          24|Action,Animation,...|      7.7|       8261|        actor|Drossel Keinz (2010)|Michael C. Pizzuto|         null|          null|actor,miscellaneo...| tt1478804,tt90581...|\n",
            "|tt0091211|Fist of the North...|       Hokuto no Ken|         1984|      1988|          25|Action,Adventure,...|      8.2|       3221|      actress|                 Bat|  Teiyû Ichiryûsai|         1958|          null|             actress| tt0091211,tt01683...|\n",
            "|tt1355642|Fullmetal Alchemi...|Hagane no renkinj...|         2009|      2010|          24|Action,Adventure,...|      9.1|     167814|      actress|Alphonse Elric (A...|     Lili Troncale|         null|          null|             actress| tt1355642,tt08528...|\n",
            "|tt0235119|       Casshern Sins|       Casshern Sins|         2008|      null|          24|Action,Adventure,...|      7.0|        879|      actress|               Lyuze|     Nami Miyahara|         1978|          null|             actress| tt0989771,tt00959...|\n",
            "|tt1308847|Legends of the Da...|Hokuto no ken Raô...|         2008|      null|          24|Action,Animation,...|      6.6|        201|        actor|                Raoh|       Andrew Love|         1981|          null|actor,animation_d...| tt0095327,tt03886...|\n",
            "|tt4508686|Ghost in the Shel...|Koukaku Kidoutai ...|         2015|      2015|         275|Action,Animation,...|      7.3|        847|        actor|               Saito|  Takurou Nakakuni|         null|          null|               actor| tt4337072,tt45086...|\n",
            "|tt4508686|Ghost in the Shel...|Koukaku Kidoutai ...|         2015|      2015|         275|Action,Animation,...|      7.3|        847|        actor|               Batou|Ken'ichirô Matsuda|         1978|          null|               actor| tt10233448,tt4337...|\n",
            "|tt0877057|          Death Note|Death Note: Desu ...|         2006|      2007|          24|Animation,Crime,D...|      9.0|     323143|        actor|Touta MatsudaNews...|      Vincent Tong|         1980|          null|actor,soundtrack,...| tt10650946,tt1575...|\n",
            "|tt0091211|Fist of the North...|       Hokuto no Ken|         1984|      1988|          25|Action,Adventure,...|      8.2|       3221|      actress|                 Lin|     Tomiko Suzuki|         1956|          2003|             actress| tt0161952,tt01397...|\n",
            "|tt0091211|Fist of the North...|       Hokuto no Ken|         1984|      1988|          25|Action,Adventure,...|      8.2|       3221|        actor|                 Rei|   Kaneto Shiozawa|         1954|          2000|               actor| tt0292103,tt00902...|\n",
            "+---------+--------------------+--------------------+-------------+----------+------------+--------------------+---------+-----------+-------------+--------------------+------------------+-------------+--------------+--------------------+---------------------+\n",
            "only showing top 10 rows\n",
            "\n"
          ]
        },
        {
          "name": "stderr",
          "output_type": "stream",
          "text": [
            "                                                                                \r"
          ]
        },
        {
          "name": "stdout",
          "output_type": "stream",
          "text": [
            "Número de linhas IMDB antes:  22143\n"
          ]
        },
        {
          "name": "stderr",
          "output_type": "stream",
          "text": [
            "[Stage 566:==========================================>              (6 + 2) / 8]\r"
          ]
        },
        {
          "name": "stdout",
          "output_type": "stream",
          "text": [
            "Número de linhas no resultado:  171\n"
          ]
        },
        {
          "name": "stderr",
          "output_type": "stream",
          "text": [
            "                                                                                \r"
          ]
        }
      ],
      "source": [
        "# Filtrar apenas os títulos das séries correspondentes aos filmes\n",
        "df_series_correspondentes = df_IMDB_Filmes_resultado.select(col('tituloPrincipal').alias('titulo'))\n",
        "\n",
        "# Realizar a junção entre os dataframes de séries e títulos correspondentes usando contains\n",
        "df_IMDB_Series_resultado = df_IMDB_filtrado_series.join(df_series_correspondentes,\n",
        "                                            df_IMDB_filtrado_series['tituloPrincipal'].contains(df_series_correspondentes['titulo']),\n",
        "                                            'inner')\n",
        "\n",
        "df_IMDB_Series_resultado = df_IMDB_Series_resultado.drop('titulo')\n",
        "\n",
        "# Remover linhas duplicadas no resultado\n",
        "df_IMDB_Series_resultado = df_IMDB_Series_resultado.distinct()\n",
        "\n",
        "# Trata os valores \"NA\" na coluna \"anoFalecimento\"\n",
        "df_IMDB_filtrado_series = df_IMDB_filtrado_series.withColumn(\"anoNascimento\", when(col(\"anoNascimento\") == \"\\\\N\", None).otherwise(col(\"anoNascimento\")))\n",
        "df_IMDB_filtrado_series = df_IMDB_filtrado_series.withColumn(\"anoFalecimento\", when(col(\"anoFalecimento\") == \"\\\\N\", None).otherwise(col(\"anoFalecimento\")))\n",
        "df_IMDB_filtrado_series = df_IMDB_filtrado_series.withColumn(\"anoTermino\", when(col(\"anoTermino\") == \"\\\\N\", None).otherwise(col(\"anoTermino\")))\n",
        "df_IMDB_filtrado_series = df_IMDB_filtrado_series.withColumn(\"tempoMinutos\", when(col(\"tempoMinutos\") == \"\\\\N\", None).otherwise(col(\"tempoMinutos\")))\n",
        "\n",
        "# Exibir resultado das séries correspondentes aos filmes\n",
        "df_IMDB_Series_resultado.show(10)\n",
        "\n",
        "print(\"Número de linhas IMDB antes: \", df_IMDB_filtrado_series.count())\n",
        "print(\"Número de linhas no resultado: \", df_IMDB_Series_resultado.count())"
      ]
    },
    {
      "attachments": {},
      "cell_type": "markdown",
      "metadata": {},
      "source": [
        "## 5. \n",
        "Filtro as Series do TMDB com lista de Filmes do TMDB"
      ]
    },
    {
      "cell_type": "code",
      "execution_count": 55,
      "metadata": {},
      "outputs": [
        {
          "name": "stdout",
          "output_type": "stream",
          "text": [
            "+--------------+--------------------+------+--------------------+--------------+-----------------+--------------------+--------------------+----------+------------+----------+\n",
            "|first_air_date|           genre_ids|    id|                name|origin_country|original_language|       original_name|            overview|popularity|vote_average|vote_count|\n",
            "+--------------+--------------------+------+--------------------+--------------+-----------------+--------------------+--------------------+----------+------------+----------+\n",
            "|    2011-01-12|            [16, 35]| 55326|DD Fist of the No...|          [JP]|               ja|          DD北斗之拳|                null|     0.919|         6.0|         2|\n",
            "|    2020-04-23|[16, 18, 10759, 1...| 90293|Ghost in the Shel...|          [JP]|               ja| 攻殻機動隊 SAC_2045|After a global fi...|    22.923|         6.6|        85|\n",
            "|    1967-09-23|[10759, 16, 35, 1...| 30986|         Speed Racer|          [JP]|               ja|        マッハGoGoGo|Teenager Speed Ra...|    29.117|         7.4|        97|\n",
            "|    2019-10-10|     [16, 18, 10759]| 92090|Blade of the Immo...|          [JP]|               ja|無限の住人-IMMORTAL-|Manji is a crass,...|    16.955|         7.2|        95|\n",
            "|          null|                [16]|222624|Gintama 3-nen Z-g...|          [JP]|               ja| 銀魂 3年Z組銀八先生|The storyline rev...|       0.6|         0.0|         0|\n",
            "|    2008-07-14|         [16, 10759]| 34697|Blade of the Immo...|          [JP]|               ja|          無限の住人|Manji is a crass,...|     6.227|         5.1|         7|\n",
            "|    2014-09-26|  [10759, 16, 10765]| 61398|       Terra Formars|          [JP]|               ja|    テラフォーマーズ|Twenty years ago,...|    44.111|         7.4|       182|\n",
            "|    2022-10-04|         [16, 10759]|158293|   Shinobi no Ittoki|          [JP]|               ja|            忍の一時|A descendent of t...|    19.395|         7.0|        15|\n",
            "|    2010-10-02|        [16, 35, 18]| 36041|           Bakuman。|          [JP]|               ja|          バクマン。|Moritaka Mashiro,...|    27.463|         8.1|       118|\n",
            "|    2011-06-10|                null|169566|Fullmetal Alchemi...|          [JP]|               ja|Fullmetal Alchemi...|To mark the July ...|     0.726|         5.0|         1|\n",
            "+--------------+--------------------+------+--------------------+--------------+-----------------+--------------------+--------------------+----------+------------+----------+\n",
            "only showing top 10 rows\n",
            "\n",
            "Número de linhas antes TMDB:  10000\n",
            "Número de linhas no resultado:  43\n"
          ]
        }
      ],
      "source": [
        "# Filtrar apenas os títulos das séries correspondentes aos filmes\n",
        "df_filmes_titulos = df_movies_TMDB.select(col('title').alias('titulo'))\n",
        "\n",
        "# Realizar a junção entre os dataframes de séries e títulos correspondentes usando contains\n",
        "df_TMDB_Series_resultado = df_series_TMDB.join(df_filmes_titulos,\n",
        "                                            df_series_TMDB['name'].contains(df_filmes_titulos['titulo']),\n",
        "                                            'inner')\n",
        "\n",
        "df_TMDB_Series_resultado = df_TMDB_Series_resultado.drop('titulo','backdrop_path','poster_path')\n",
        "\n",
        "# Remover linhas duplicadas no resultado\n",
        "df_TMDB_Series_resultado = df_TMDB_Series_resultado.distinct()\n",
        "\n",
        "# Trata os valores \"NA\" na coluna \"anoFalecimento\"\n",
        "df_TMDB_Series_resultado = df_TMDB_Series_resultado.withColumn(\"first_air_date\", when(col(\"first_air_date\") == \"\", None).otherwise(col(\"first_air_date\")))\n",
        "df_TMDB_Series_resultado = df_TMDB_Series_resultado.withColumn(\"genre_ids\", when(size(col(\"genre_ids\")) == 0, None).otherwise(col(\"genre_ids\")))\n",
        "df_TMDB_Series_resultado = df_TMDB_Series_resultado.withColumn(\"overview\", when(col(\"overview\") == \"\", None).otherwise(col(\"overview\")))\n",
        "\n",
        "# Exibir resultado das séries correspondentes aos filmes\n",
        "df_TMDB_Series_resultado.show(10)\n",
        "print(\"Número de linhas antes TMDB: \", df_series_TMDB.count())\n",
        "print(\"Número de linhas no resultado: \", df_TMDB_Series_resultado.count())"
      ]
    },
    {
      "attachments": {},
      "cell_type": "markdown",
      "metadata": {},
      "source": [
        "## 6.\n",
        "Elimina algumas colunas não relevantes do df_movies_TMDB "
      ]
    },
    {
      "cell_type": "code",
      "execution_count": 68,
      "metadata": {},
      "outputs": [
        {
          "name": "stdout",
          "output_type": "stream",
          "text": [
            "+-----+--------------------+-------------+------+-----------------+--------------------------------+--------------------+----------+--------------------+------------+--------------------+-----+------------+----------+\n",
            "|adult|       backdrop_path|    genre_ids|    id|original_language|                  original_title|            overview|popularity|         poster_path|release_date|               title|video|vote_average|vote_count|\n",
            "+-----+--------------------+-------------+------+-----------------+--------------------------------+--------------------+----------+--------------------+------------+--------------------+-----+------------+----------+\n",
            "|false|/993utJnne28M1WNC...| [14, 28, 12]|455476|               en|            Knights of the Zo...|When a headstrong...|   304.591|/1nbFEdIFprRNSWcC...|  2023-04-27|Knights of the Zo...|false|         6.3|        49|\n",
            "|false|/5hoS3nEkGGXUfmnu...| [28, 12, 14]|960704|               ja|  鋼の錬金術師 完結編 最後の錬成|The Elric brother...|     97.28|/AeyiuQUUs78bPkz1...|  2022-06-24|Fullmetal Alchemi...|false|         6.3|       154|\n",
            "|false|/yaze6df9AMIA9oeD...| [14, 28, 12]|960700|               ja|鋼の錬金術師 完結編 復讐者スカー|The Elric brother...|    60.201|/c5OwwBNyJkwyroIO...|  2022-05-20|Fullmetal Alchemi...|false|         6.8|       176|\n",
            "|false|/8RKBHHRqOMOLh5qW...|[28, 878, 12]|399579|               en|             Alita: Battle Angel|When Alita awaken...|    51.224|/xRWht48C2V8XNfzv...|  2019-01-31| Alita: Battle Angel|false|         7.2|      8208|\n",
            "|false|/nDP33LmQwNsnPv29...| [28, 12, 14]|447404|               en|            Pokémon Detective...|In a world where ...|    49.944|/wgQ7APnFpf1TuviK...|  2019-05-10|Pokémon Detective...|false|         7.0|      6117|\n",
            "+-----+--------------------+-------------+------+-----------------+--------------------------------+--------------------+----------+--------------------+------------+--------------------+-----+------------+----------+\n",
            "only showing top 5 rows\n",
            "\n",
            "+-------------+------+-----------------+--------------------------------+--------------------+----------+------------+--------------------+------------+----------+\n",
            "|    genre_ids|    id|original_language|                  original_title|            overview|popularity|release_date|               title|vote_average|vote_count|\n",
            "+-------------+------+-----------------+--------------------------------+--------------------+----------+------------+--------------------+------------+----------+\n",
            "| [14, 28, 12]|455476|               en|            Knights of the Zo...|When a headstrong...|   304.591|  2023-04-27|Knights of the Zo...|         6.3|        49|\n",
            "| [28, 12, 14]|960704|               ja|  鋼の錬金術師 完結編 最後の錬成|The Elric brother...|     97.28|  2022-06-24|Fullmetal Alchemi...|         6.3|       154|\n",
            "| [14, 28, 12]|960700|               ja|鋼の錬金術師 完結編 復讐者スカー|The Elric brother...|    60.201|  2022-05-20|Fullmetal Alchemi...|         6.8|       176|\n",
            "|[28, 878, 12]|399579|               en|             Alita: Battle Angel|When Alita awaken...|    51.224|  2019-01-31| Alita: Battle Angel|         7.2|      8208|\n",
            "| [28, 12, 14]|447404|               en|            Pokémon Detective...|In a world where ...|    49.944|  2019-05-10|Pokémon Detective...|         7.0|      6117|\n",
            "+-------------+------+-----------------+--------------------------------+--------------------+----------+------------+--------------------+------------+----------+\n",
            "only showing top 5 rows\n",
            "\n"
          ]
        }
      ],
      "source": [
        "df_TMDB_filmes_resultado = df_movies_TMDB.drop('adult','backdrop_path','poster_path','video')\n",
        "\n",
        "df_movies_TMDB.show(5)\n",
        "df_TMDB_filmes_resultado.show(5)"
      ]
    },
    {
      "attachments": {},
      "cell_type": "markdown",
      "metadata": {},
      "source": [
        "## 6."
      ]
    },
    {
      "cell_type": "code",
      "execution_count": null,
      "metadata": {},
      "outputs": [],
      "source": [
        "\"\"\"\n",
        "# Salvar df_IMDB_Filmes_resultado em formato Parquet\n",
        "df_IMDB_Filmes_resultado.write.csv(\"/mnt/wsl/PHYSICALDRIVE2/Projects/Compasso/Azimute/Sprint_9/Desafio03_ETL/Tarefa_03/salvar_csv/df_IMDB_filtrado_filmes.csv\")\n",
        "\n",
        "# Salvar df_IMDB_Series_resultado em formato Parquet\n",
        "df_IMDB_Series_resultado.write.csv(\"/mnt/wsl/PHYSICALDRIVE2/Projects/Compasso/Azimute/Sprint_9/Desafio03_ETL/Tarefa_03/salvar_csv/df_IMDB_filtrado_series.csv\")\n",
        "\n",
        "# Salvar df_TMDB_Series_resultado em formato Parquet\n",
        "df_TMDB_Series_resultado.write.csv(\"/mnt/wsl/PHYSICALDRIVE2/Projects/Compasso/Azimute/Sprint_9/Desafio03_ETL/Tarefa_03/salvar_csv/df_IMDB_Series_resultado.scv\")\n",
        "\n",
        "# Salvar df_df_TMDB_filmes_resultado em formato Parquet\n",
        "df_TMDB_filmes_resultado.write.csv(\"/mnt/wsl/PHYSICALDRIVE2/Projects/Compasso/Azimute/Sprint_9/Desafio03_ETL/Tarefa_03/salvar_csv/df_TMDB_Series_resultado.csv\")\n",
        "\"\"\""
      ]
    }
  ],
  "metadata": {
    "colab": {
      "provenance": []
    },
    "kernelspec": {
      "display_name": "Python 3",
      "language": "python",
      "name": "python3"
    },
    "language_info": {
      "codemirror_mode": {
        "name": "ipython",
        "version": 3
      },
      "file_extension": ".py",
      "mimetype": "text/x-python",
      "name": "python",
      "nbconvert_exporter": "python",
      "pygments_lexer": "ipython3",
      "version": "3.9.1"
    },
    "orig_nbformat": 4
  },
  "nbformat": 4,
  "nbformat_minor": 0
}
