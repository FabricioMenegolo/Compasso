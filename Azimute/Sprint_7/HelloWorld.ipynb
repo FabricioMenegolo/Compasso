{
 "cells": [
  {
   "cell_type": "code",
   "execution_count": 2,
   "metadata": {},
   "outputs": [],
   "source": [
    "#import os\n",
    "#import sys\n",
    "\n",
    "#spark_home = \"/opt/apache-spark\"\n",
    "#os.environ[\"SPARK_HOME\"] = spark_home\n",
    "\n",
    "# Add the PySpark directories to the Python path\n",
    "#sys.path.insert(0, os.path.join(spark_home, \"python\"))\n",
    "#sys.path.insert(0, os.path.join(spark_home, \"python\", \"lib\", \"py4j-0.10.9-src.zip\"))"
   ]
  },
  {
   "cell_type": "code",
   "execution_count": 3,
   "metadata": {},
   "outputs": [],
   "source": [
    "import os\n",
    "import sys\n",
    "os.environ[\"PYSPARK_PYTHON\"] = sys.executable\n",
    "import pyspark \n",
    "from pyspark.sql import SparkSession\n",
    "spark = SparkSession.builder.master(\"local[*]\") \\\n",
    " .appName('SparkHelloWorld') \\\n",
    " .getOrCreate()"
   ]
  },
  {
   "cell_type": "code",
   "execution_count": 4,
   "metadata": {},
   "outputs": [
    {
     "name": "stderr",
     "output_type": "stream",
     "text": [
      "                                                                                \r"
     ]
    },
    {
     "name": "stdout",
     "output_type": "stream",
     "text": [
      "+---------+----------+--------+-----+---+------+\n",
      "|firstname|middlename|lastname|   id|sex|salary|\n",
      "+---------+----------+--------+-----+---+------+\n",
      "|    James|          |   Smith|36636|  M|  3000|\n",
      "|  Michael|      Rose|        |40288|  M|    -1|\n",
      "|   Robert|          |Williams|42114|  M|  4000|\n",
      "|    Maria|      Anne|   Jones|39192|  F|  4000|\n",
      "|      Jen|      Mary|   Brown| null|  F|  3000|\n",
      "+---------+----------+--------+-----+---+------+\n",
      "\n"
     ]
    }
   ],
   "source": [
    "from pyspark.sql.types import StructType, StructField, StringType, IntegerType\n",
    "data = [\n",
    " (\"James\", \"\", \"Smith\", \"36636\", \"M\", 3000), \n",
    " (\"Michael\", \"Rose\", \"\", \"40288\", \"M\", -1), \n",
    " (\"Robert\", \"\", \"Williams\", \"42114\", \"M\", 4000), \n",
    " (\"Maria\", \"Anne\", \"Jones\", \"39192\", \"F\", 4000), \n",
    " (\"Jen\", \"Mary\", \"Brown\", None, \"F\", 3000)\n",
    "]\n",
    "schema = StructType([\n",
    " StructField(\"firstname\", StringType(), True), \\\n",
    " StructField(\"middlename\", StringType(), True), \\\n",
    " StructField(\"lastname\", StringType(), True), \\\n",
    " StructField(\"id\", StringType(), True), \\\n",
    " StructField(\"sex\", StringType(), True), \\\n",
    " StructField(\"salary\", IntegerType(), True) \\\n",
    " ])\n",
    "df = spark.createDataFrame(data=data, schema=schema)\n",
    "df.show()\n"
   ]
  },
  {
   "cell_type": "code",
   "execution_count": 5,
   "metadata": {},
   "outputs": [
    {
     "name": "stdout",
     "output_type": "stream",
     "text": [
      "+---------+----------+--------+-----+---+------+\n",
      "|firstname|middlename|lastname|   id|sex|salary|\n",
      "+---------+----------+--------+-----+---+------+\n",
      "|    James|          |   Smith|36636|  M|  3000|\n",
      "|   Robert|          |Williams|42114|  M|  4000|\n",
      "|    Maria|      Anne|   Jones|39192|  F|  4000|\n",
      "+---------+----------+--------+-----+---+------+\n",
      "\n"
     ]
    }
   ],
   "source": [
    "from pyspark.sql.functions import col\n",
    "df_filtered = df.where(\n",
    " (col(\"id\").isNotNull()) & (col(\"salary\") > 0)\n",
    ")\n",
    "df_filtered.show()\n"
   ]
  },
  {
   "cell_type": "code",
   "execution_count": 6,
   "metadata": {},
   "outputs": [
    {
     "name": "stdout",
     "output_type": "stream",
     "text": [
      "+---------+----------+--------+-----+---+------+--------------+\n",
      "|firstname|middlename|lastname|   id|sex|salary|      fullname|\n",
      "+---------+----------+--------+-----+---+------+--------------+\n",
      "|    James|          |   Smith|36636|  M|  3000|    JamesSmith|\n",
      "|   Robert|          |Williams|42114|  M|  4000|RobertWilliams|\n",
      "|    Maria|      Anne|   Jones|39192|  F|  4000|MariaAnneJones|\n",
      "+---------+----------+--------+-----+---+------+--------------+\n",
      "\n"
     ]
    }
   ],
   "source": [
    "from pyspark.sql.functions import concat\n",
    "df_full_name = df_filtered.withColumn(\n",
    " \"fullname\",\n",
    " concat(col(\"firstname\"), col(\"middlename\"), col(\"lastname\"))\n",
    ")\n",
    "df_full_name.show()"
   ]
  },
  {
   "cell_type": "code",
   "execution_count": 7,
   "metadata": {},
   "outputs": [
    {
     "name": "stdout",
     "output_type": "stream",
     "text": [
      "+---------+----------+--------+-----+---+------+----------------+\n",
      "|firstname|middlename|lastname|   id|sex|salary|        fullname|\n",
      "+---------+----------+--------+-----+---+------+----------------+\n",
      "|    James|          |   Smith|36636|  M|  3000|    James  Smith|\n",
      "|   Robert|          |Williams|42114|  M|  4000|Robert  Williams|\n",
      "|    Maria|      Anne|   Jones|39192|  F|  4000|Maria Anne Jones|\n",
      "+---------+----------+--------+-----+---+------+----------------+\n",
      "\n"
     ]
    }
   ],
   "source": [
    "from pyspark.sql.functions import lit\n",
    "df_full_name2 = df_filtered.withColumn(\n",
    " \"fullname\",\n",
    " concat(\n",
    " col(\"firstname\"),\n",
    " lit(\" \"),\n",
    " col(\"middlename\"),\n",
    " lit(\" \"),\n",
    " col(\"lastname\"))\n",
    ")\n",
    "df_full_name2.show()\n"
   ]
  },
  {
   "cell_type": "code",
   "execution_count": 8,
   "metadata": {},
   "outputs": [
    {
     "name": "stdout",
     "output_type": "stream",
     "text": [
      "+---------+----------+--------+-----+---+------+----------------+\n",
      "|firstname|middlename|lastname|   id|sex|salary|        fullname|\n",
      "+---------+----------+--------+-----+---+------+----------------+\n",
      "|    James|          |   Smith|36636|  M|  3000|     James Smith|\n",
      "|   Robert|          |Williams|42114|  M|  4000| Robert Williams|\n",
      "|    Maria|      Anne|   Jones|39192|  F|  4000|Maria Anne Jones|\n",
      "+---------+----------+--------+-----+---+------+----------------+\n",
      "\n"
     ]
    }
   ],
   "source": [
    "df_filtered.createOrReplaceTempView(\"df\")\n",
    "df_full_name3 = spark.sql(\"\"\"\n",
    " SELECT *,\n",
    " CASE\n",
    " WHEN middlename = '' THEN concat(firstname, \" \", lastname)\n",
    " ELSE concat(firstname, \" \", middlename, \" \", lastname)\n",
    " END AS fullname\n",
    " FROM df\n",
    "\"\"\")\n",
    "df_full_name3.show()"
   ]
  },
  {
   "cell_type": "code",
   "execution_count": 9,
   "metadata": {},
   "outputs": [
    {
     "name": "stdout",
     "output_type": "stream",
     "text": [
      "+---------+----------+--------+-----+---+------+-----------------+\n",
      "|firstname|middlename|lastname|   id|sex|salary|         fullname|\n",
      "+---------+----------+--------+-----+---+------+-----------------+\n",
      "|    James|          |   Smith|36636|  M|  3000|      James Smith|\n",
      "|   Robert|          |Williams|42114|  M|  4000|  Robert Williams|\n",
      "|    Maria|      Anne|   Jones|39192|  F|  4000|Maria Jones Jones|\n",
      "+---------+----------+--------+-----+---+------+-----------------+\n",
      "\n"
     ]
    }
   ],
   "source": [
    "from pyspark.sql.functions import when\n",
    "df_full_name4 = df_filtered.withColumn(\n",
    " \"fullname\",\n",
    " when(\n",
    " col(\"middlename\") == \"\",\n",
    " concat(\n",
    " col(\"firstname\"),\n",
    " lit(\" \"),\n",
    " col(\"lastname\")\n",
    " )\n",
    " ).otherwise(\n",
    " concat(\n",
    " col(\"firstname\"),\n",
    " lit(\" \"),\n",
    " col(\"lastname\"),\n",
    " lit(\" \"),\n",
    " col(\"lastname\")\n",
    " )\n",
    " )\n",
    ")\n",
    "df_full_name4.show()"
   ]
  }
 ],
 "metadata": {
  "kernelspec": {
   "display_name": "Python 3",
   "language": "python",
   "name": "python3"
  },
  "language_info": {
   "codemirror_mode": {
    "name": "ipython",
    "version": 3
   },
   "file_extension": ".py",
   "mimetype": "text/x-python",
   "name": "python",
   "nbconvert_exporter": "python",
   "pygments_lexer": "ipython3",
   "version": "3.10.10"
  },
  "orig_nbformat": 4
 },
 "nbformat": 4,
 "nbformat_minor": 2
}
